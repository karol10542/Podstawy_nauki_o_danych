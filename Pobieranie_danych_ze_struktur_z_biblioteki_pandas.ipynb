{
  "nbformat": 4,
  "nbformat_minor": 0,
  "metadata": {
    "colab": {
      "name": "Pobieranie_danych_ze_struktur_z_biblioteki_pandas.ipynb",
      "provenance": [],
      "authorship_tag": "ABX9TyNnqLV6MwYIdw4m9OjjTYZu",
      "include_colab_link": true
    },
    "kernelspec": {
      "name": "python3",
      "display_name": "Python 3"
    },
    "language_info": {
      "name": "python"
    }
  },
  "cells": [
    {
      "cell_type": "markdown",
      "metadata": {
        "id": "view-in-github",
        "colab_type": "text"
      },
      "source": [
        "<a href=\"https://colab.research.google.com/github/karol10542/Podstawy_nauki_o_danych/blob/main/Pobieranie_danych_ze_struktur_z_biblioteki_pandas.ipynb\" target=\"_parent\"><img src=\"https://colab.research.google.com/assets/colab-badge.svg\" alt=\"Open In Colab\"/></a>"
      ]
    },
    {
      "cell_type": "code",
      "metadata": {
        "id": "8jTC94lMYb1E"
      },
      "source": [
        "import pandas as pd\n"
      ],
      "execution_count": 1,
      "outputs": []
    },
    {
      "cell_type": "code",
      "metadata": {
        "id": "EBJnkJMEZcH4"
      },
      "source": [
        "housing_filename = 'housing.csv'\n",
        "housing = pd.read_csv(housing_filename,header=None)"
      ],
      "execution_count": 2,
      "outputs": []
    },
    {
      "cell_type": "code",
      "metadata": {
        "colab": {
          "base_uri": "https://localhost:8080/"
        },
        "id": "a00stWJJagiz",
        "outputId": "0a444c62-37fa-4453-c5bf-8d527d48c3d4"
      },
      "source": [
        "#porownanie czasu wykonania \n",
        "%timeit -n 1 -r 3 [i+1.0 for i in range(10**6)]"
      ],
      "execution_count": 4,
      "outputs": [
        {
          "output_type": "stream",
          "text": [
            "1 loop, best of 3: 125 ms per loop\n"
          ],
          "name": "stdout"
        }
      ]
    },
    {
      "cell_type": "code",
      "metadata": {
        "colab": {
          "base_uri": "https://localhost:8080/"
        },
        "id": "ca8GER8Zai0l",
        "outputId": "3b5eeb47-9c0a-4889-8cfe-62cc3651f54d"
      },
      "source": [
        "import numpy as np\n",
        "%timeit -n 1 -r 3 np.arange(10**6)+1.0"
      ],
      "execution_count": 6,
      "outputs": [
        {
          "output_type": "stream",
          "text": [
            "1 loop, best of 3: 4.2 ms per loop\n"
          ],
          "name": "stdout"
        }
      ]
    },
    {
      "cell_type": "code",
      "metadata": {
        "id": "z05iK9GhbRQB"
      },
      "source": [
        ""
      ],
      "execution_count": null,
      "outputs": []
    }
  ]
}