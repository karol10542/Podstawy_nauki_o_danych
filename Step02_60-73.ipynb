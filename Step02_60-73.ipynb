{
  "nbformat": 4,
  "nbformat_minor": 0,
  "metadata": {
    "colab": {
      "name": "Untitled18.ipynb",
      "provenance": [],
      "authorship_tag": "ABX9TyPS7xKqwWMFf85owkrnirtu",
      "include_colab_link": true
    },
    "kernelspec": {
      "name": "python3",
      "display_name": "Python 3"
    },
    "language_info": {
      "name": "python"
    },
    "accelerator": "GPU"
  },
  "cells": [
    {
      "cell_type": "markdown",
      "metadata": {
        "id": "view-in-github",
        "colab_type": "text"
      },
      "source": [
        "<a href=\"https://colab.research.google.com/github/karol10542/Podstawy_nauki_o_danych/blob/main/Step02_60-73.ipynb\" target=\"_parent\"><img src=\"https://colab.research.google.com/assets/colab-badge.svg\" alt=\"Open In Colab\"/></a>"
      ]
    },
    {
      "cell_type": "code",
      "metadata": {
        "id": "-z8QSuCrjkFy"
      },
      "source": [
        "import pandas as pd"
      ],
      "execution_count": 1,
      "outputs": []
    },
    {
      "cell_type": "code",
      "metadata": {
        "id": "e8gHkTS8lpRf"
      },
      "source": [
        "import urllib"
      ],
      "execution_count": 4,
      "outputs": []
    },
    {
      "cell_type": "code",
      "metadata": {
        "id": "FLxjQjh-lvmh"
      },
      "source": [
        "#jesli dane mają być ze strony uzywamy tego kodu:\n",
        "#url = \"http://aima.cs.berkeley.edu/data/iris.csv\"\n",
        "#set1 = urllib.request.Request(url)\n",
        "#iris_p = urllib.request.urlopen(set1)\n",
        "#iris_other = pd.read_csv(iris_filename, sep=',',decimal='.', header=None,\n",
        " #                  names=['sepal_length','sepal_width','petal_length','petal_width','target'])"
      ],
      "execution_count": 6,
      "outputs": []
    },
    {
      "cell_type": "code",
      "metadata": {
        "id": "7VhhdnSykC_9"
      },
      "source": [
        "#sciezka do pliku csv\n",
        "iris_filename = '/content/Iris.csv'\n",
        "#do odczytania podajemy nazwe pliku, separatory odzielajace, znak odzielajacy znak wartosci dziesietnej, czy dane obejmuja naglowek,\n",
        "iris = pd.read_csv(iris_filename, sep=',',decimal='.', header=None,\n",
        "                   names=['sepal_length','sepal_width','petal_length','petal_width','target'])"
      ],
      "execution_count": 7,
      "outputs": []
    },
    {
      "cell_type": "code",
      "metadata": {
        "colab": {
          "base_uri": "https://localhost:8080/",
          "height": 204
        },
        "id": "ZAUqc4qollrO",
        "outputId": "9db1011c-d757-454f-d96a-8e84a3ae2460"
      },
      "source": [
        "#wyswietlamy dane\n",
        "iris.head()"
      ],
      "execution_count": 9,
      "outputs": [
        {
          "output_type": "execute_result",
          "data": {
            "text/html": [
              "<div>\n",
              "<style scoped>\n",
              "    .dataframe tbody tr th:only-of-type {\n",
              "        vertical-align: middle;\n",
              "    }\n",
              "\n",
              "    .dataframe tbody tr th {\n",
              "        vertical-align: top;\n",
              "    }\n",
              "\n",
              "    .dataframe thead th {\n",
              "        text-align: right;\n",
              "    }\n",
              "</style>\n",
              "<table border=\"1\" class=\"dataframe\">\n",
              "  <thead>\n",
              "    <tr style=\"text-align: right;\">\n",
              "      <th></th>\n",
              "      <th>sepal_length</th>\n",
              "      <th>sepal_width</th>\n",
              "      <th>petal_length</th>\n",
              "      <th>petal_width</th>\n",
              "      <th>target</th>\n",
              "    </tr>\n",
              "  </thead>\n",
              "  <tbody>\n",
              "    <tr>\n",
              "      <th>Id</th>\n",
              "      <td>SepalLengthCm</td>\n",
              "      <td>SepalWidthCm</td>\n",
              "      <td>PetalLengthCm</td>\n",
              "      <td>PetalWidthCm</td>\n",
              "      <td>Species</td>\n",
              "    </tr>\n",
              "    <tr>\n",
              "      <th>1</th>\n",
              "      <td>5.1</td>\n",
              "      <td>3.5</td>\n",
              "      <td>1.4</td>\n",
              "      <td>0.2</td>\n",
              "      <td>Iris-setosa</td>\n",
              "    </tr>\n",
              "    <tr>\n",
              "      <th>2</th>\n",
              "      <td>4.9</td>\n",
              "      <td>3.0</td>\n",
              "      <td>1.4</td>\n",
              "      <td>0.2</td>\n",
              "      <td>Iris-setosa</td>\n",
              "    </tr>\n",
              "    <tr>\n",
              "      <th>3</th>\n",
              "      <td>4.7</td>\n",
              "      <td>3.2</td>\n",
              "      <td>1.3</td>\n",
              "      <td>0.2</td>\n",
              "      <td>Iris-setosa</td>\n",
              "    </tr>\n",
              "    <tr>\n",
              "      <th>4</th>\n",
              "      <td>4.6</td>\n",
              "      <td>3.1</td>\n",
              "      <td>1.5</td>\n",
              "      <td>0.2</td>\n",
              "      <td>Iris-setosa</td>\n",
              "    </tr>\n",
              "  </tbody>\n",
              "</table>\n",
              "</div>"
            ],
            "text/plain": [
              "     sepal_length   sepal_width   petal_length   petal_width       target\n",
              "Id  SepalLengthCm  SepalWidthCm  PetalLengthCm  PetalWidthCm      Species\n",
              "1             5.1           3.5            1.4           0.2  Iris-setosa\n",
              "2             4.9           3.0            1.4           0.2  Iris-setosa\n",
              "3             4.7           3.2            1.3           0.2  Iris-setosa\n",
              "4             4.6           3.1            1.5           0.2  Iris-setosa"
            ]
          },
          "metadata": {
            "tags": []
          },
          "execution_count": 9
        }
      ]
    },
    {
      "cell_type": "code",
      "metadata": {
        "colab": {
          "base_uri": "https://localhost:8080/",
          "height": 204
        },
        "id": "gQShTUgen8zj",
        "outputId": "4c8fbdae-1241-4ac7-dcc8-af0d8649e058"
      },
      "source": [
        "#ta funkcja wysiwetla po 5 wierszy\n",
        "iris.tail()"
      ],
      "execution_count": 17,
      "outputs": [
        {
          "output_type": "execute_result",
          "data": {
            "text/html": [
              "<div>\n",
              "<style scoped>\n",
              "    .dataframe tbody tr th:only-of-type {\n",
              "        vertical-align: middle;\n",
              "    }\n",
              "\n",
              "    .dataframe tbody tr th {\n",
              "        vertical-align: top;\n",
              "    }\n",
              "\n",
              "    .dataframe thead th {\n",
              "        text-align: right;\n",
              "    }\n",
              "</style>\n",
              "<table border=\"1\" class=\"dataframe\">\n",
              "  <thead>\n",
              "    <tr style=\"text-align: right;\">\n",
              "      <th></th>\n",
              "      <th>sepal_length</th>\n",
              "      <th>sepal_width</th>\n",
              "      <th>petal_length</th>\n",
              "      <th>petal_width</th>\n",
              "      <th>target</th>\n",
              "    </tr>\n",
              "  </thead>\n",
              "  <tbody>\n",
              "    <tr>\n",
              "      <th>146</th>\n",
              "      <td>6.7</td>\n",
              "      <td>3.0</td>\n",
              "      <td>5.2</td>\n",
              "      <td>2.3</td>\n",
              "      <td>Iris-virginica</td>\n",
              "    </tr>\n",
              "    <tr>\n",
              "      <th>147</th>\n",
              "      <td>6.3</td>\n",
              "      <td>2.5</td>\n",
              "      <td>5.0</td>\n",
              "      <td>1.9</td>\n",
              "      <td>Iris-virginica</td>\n",
              "    </tr>\n",
              "    <tr>\n",
              "      <th>148</th>\n",
              "      <td>6.5</td>\n",
              "      <td>3.0</td>\n",
              "      <td>5.2</td>\n",
              "      <td>2.0</td>\n",
              "      <td>Iris-virginica</td>\n",
              "    </tr>\n",
              "    <tr>\n",
              "      <th>149</th>\n",
              "      <td>6.2</td>\n",
              "      <td>3.4</td>\n",
              "      <td>5.4</td>\n",
              "      <td>2.3</td>\n",
              "      <td>Iris-virginica</td>\n",
              "    </tr>\n",
              "    <tr>\n",
              "      <th>150</th>\n",
              "      <td>5.9</td>\n",
              "      <td>3.0</td>\n",
              "      <td>5.1</td>\n",
              "      <td>1.8</td>\n",
              "      <td>Iris-virginica</td>\n",
              "    </tr>\n",
              "  </tbody>\n",
              "</table>\n",
              "</div>"
            ],
            "text/plain": [
              "    sepal_length sepal_width petal_length petal_width          target\n",
              "146          6.7         3.0          5.2         2.3  Iris-virginica\n",
              "147          6.3         2.5          5.0         1.9  Iris-virginica\n",
              "148          6.5         3.0          5.2         2.0  Iris-virginica\n",
              "149          6.2         3.4          5.4         2.3  Iris-virginica\n",
              "150          5.9         3.0          5.1         1.8  Iris-virginica"
            ]
          },
          "metadata": {
            "tags": []
          },
          "execution_count": 17
        }
      ]
    },
    {
      "cell_type": "code",
      "metadata": {
        "colab": {
          "base_uri": "https://localhost:8080/",
          "height": 452
        },
        "id": "ej3wkwRqoKvb",
        "outputId": "a9ebb74e-5891-4a16-f957-acad88fe9c0d"
      },
      "source": [
        "iris.head(13)"
      ],
      "execution_count": 18,
      "outputs": [
        {
          "output_type": "execute_result",
          "data": {
            "text/html": [
              "<div>\n",
              "<style scoped>\n",
              "    .dataframe tbody tr th:only-of-type {\n",
              "        vertical-align: middle;\n",
              "    }\n",
              "\n",
              "    .dataframe tbody tr th {\n",
              "        vertical-align: top;\n",
              "    }\n",
              "\n",
              "    .dataframe thead th {\n",
              "        text-align: right;\n",
              "    }\n",
              "</style>\n",
              "<table border=\"1\" class=\"dataframe\">\n",
              "  <thead>\n",
              "    <tr style=\"text-align: right;\">\n",
              "      <th></th>\n",
              "      <th>sepal_length</th>\n",
              "      <th>sepal_width</th>\n",
              "      <th>petal_length</th>\n",
              "      <th>petal_width</th>\n",
              "      <th>target</th>\n",
              "    </tr>\n",
              "  </thead>\n",
              "  <tbody>\n",
              "    <tr>\n",
              "      <th>Id</th>\n",
              "      <td>SepalLengthCm</td>\n",
              "      <td>SepalWidthCm</td>\n",
              "      <td>PetalLengthCm</td>\n",
              "      <td>PetalWidthCm</td>\n",
              "      <td>Species</td>\n",
              "    </tr>\n",
              "    <tr>\n",
              "      <th>1</th>\n",
              "      <td>5.1</td>\n",
              "      <td>3.5</td>\n",
              "      <td>1.4</td>\n",
              "      <td>0.2</td>\n",
              "      <td>Iris-setosa</td>\n",
              "    </tr>\n",
              "    <tr>\n",
              "      <th>2</th>\n",
              "      <td>4.9</td>\n",
              "      <td>3.0</td>\n",
              "      <td>1.4</td>\n",
              "      <td>0.2</td>\n",
              "      <td>Iris-setosa</td>\n",
              "    </tr>\n",
              "    <tr>\n",
              "      <th>3</th>\n",
              "      <td>4.7</td>\n",
              "      <td>3.2</td>\n",
              "      <td>1.3</td>\n",
              "      <td>0.2</td>\n",
              "      <td>Iris-setosa</td>\n",
              "    </tr>\n",
              "    <tr>\n",
              "      <th>4</th>\n",
              "      <td>4.6</td>\n",
              "      <td>3.1</td>\n",
              "      <td>1.5</td>\n",
              "      <td>0.2</td>\n",
              "      <td>Iris-setosa</td>\n",
              "    </tr>\n",
              "    <tr>\n",
              "      <th>5</th>\n",
              "      <td>5.0</td>\n",
              "      <td>3.6</td>\n",
              "      <td>1.4</td>\n",
              "      <td>0.2</td>\n",
              "      <td>Iris-setosa</td>\n",
              "    </tr>\n",
              "    <tr>\n",
              "      <th>6</th>\n",
              "      <td>5.4</td>\n",
              "      <td>3.9</td>\n",
              "      <td>1.7</td>\n",
              "      <td>0.4</td>\n",
              "      <td>Iris-setosa</td>\n",
              "    </tr>\n",
              "    <tr>\n",
              "      <th>7</th>\n",
              "      <td>4.6</td>\n",
              "      <td>3.4</td>\n",
              "      <td>1.4</td>\n",
              "      <td>0.3</td>\n",
              "      <td>Iris-setosa</td>\n",
              "    </tr>\n",
              "    <tr>\n",
              "      <th>8</th>\n",
              "      <td>5.0</td>\n",
              "      <td>3.4</td>\n",
              "      <td>1.5</td>\n",
              "      <td>0.2</td>\n",
              "      <td>Iris-setosa</td>\n",
              "    </tr>\n",
              "    <tr>\n",
              "      <th>9</th>\n",
              "      <td>4.4</td>\n",
              "      <td>2.9</td>\n",
              "      <td>1.4</td>\n",
              "      <td>0.2</td>\n",
              "      <td>Iris-setosa</td>\n",
              "    </tr>\n",
              "    <tr>\n",
              "      <th>10</th>\n",
              "      <td>4.9</td>\n",
              "      <td>3.1</td>\n",
              "      <td>1.5</td>\n",
              "      <td>0.1</td>\n",
              "      <td>Iris-setosa</td>\n",
              "    </tr>\n",
              "    <tr>\n",
              "      <th>11</th>\n",
              "      <td>5.4</td>\n",
              "      <td>3.7</td>\n",
              "      <td>1.5</td>\n",
              "      <td>0.2</td>\n",
              "      <td>Iris-setosa</td>\n",
              "    </tr>\n",
              "    <tr>\n",
              "      <th>12</th>\n",
              "      <td>4.8</td>\n",
              "      <td>3.4</td>\n",
              "      <td>1.6</td>\n",
              "      <td>0.2</td>\n",
              "      <td>Iris-setosa</td>\n",
              "    </tr>\n",
              "  </tbody>\n",
              "</table>\n",
              "</div>"
            ],
            "text/plain": [
              "     sepal_length   sepal_width   petal_length   petal_width       target\n",
              "Id  SepalLengthCm  SepalWidthCm  PetalLengthCm  PetalWidthCm      Species\n",
              "1             5.1           3.5            1.4           0.2  Iris-setosa\n",
              "2             4.9           3.0            1.4           0.2  Iris-setosa\n",
              "3             4.7           3.2            1.3           0.2  Iris-setosa\n",
              "4             4.6           3.1            1.5           0.2  Iris-setosa\n",
              "5             5.0           3.6            1.4           0.2  Iris-setosa\n",
              "6             5.4           3.9            1.7           0.4  Iris-setosa\n",
              "7             4.6           3.4            1.4           0.3  Iris-setosa\n",
              "8             5.0           3.4            1.5           0.2  Iris-setosa\n",
              "9             4.4           2.9            1.4           0.2  Iris-setosa\n",
              "10            4.9           3.1            1.5           0.1  Iris-setosa\n",
              "11            5.4           3.7            1.5           0.2  Iris-setosa\n",
              "12            4.8           3.4            1.6           0.2  Iris-setosa"
            ]
          },
          "metadata": {
            "tags": []
          },
          "execution_count": 18
        }
      ]
    },
    {
      "cell_type": "code",
      "metadata": {
        "colab": {
          "base_uri": "https://localhost:8080/"
        },
        "id": "EK_SxqwFo4bq",
        "outputId": "c4f72c8c-d59d-413b-efa5-f2cf364d2e6c"
      },
      "source": [
        "#aby poznac nazwy kolumn\n",
        "iris.columns"
      ],
      "execution_count": 22,
      "outputs": [
        {
          "output_type": "execute_result",
          "data": {
            "text/plain": [
              "Index(['sepal_length', 'sepal_width', 'petal_length', 'petal_width', 'target'], dtype='object')"
            ]
          },
          "metadata": {
            "tags": []
          },
          "execution_count": 22
        }
      ]
    },
    {
      "cell_type": "code",
      "metadata": {
        "colab": {
          "base_uri": "https://localhost:8080/",
          "height": 419
        },
        "id": "dGqOEq6VrMPb",
        "outputId": "5fdc0da5-3325-4522-b137-13323178e7bc"
      },
      "source": [
        "X = iris[['sepal_length','sepal_width']]\n",
        "X"
      ],
      "execution_count": 26,
      "outputs": [
        {
          "output_type": "execute_result",
          "data": {
            "text/html": [
              "<div>\n",
              "<style scoped>\n",
              "    .dataframe tbody tr th:only-of-type {\n",
              "        vertical-align: middle;\n",
              "    }\n",
              "\n",
              "    .dataframe tbody tr th {\n",
              "        vertical-align: top;\n",
              "    }\n",
              "\n",
              "    .dataframe thead th {\n",
              "        text-align: right;\n",
              "    }\n",
              "</style>\n",
              "<table border=\"1\" class=\"dataframe\">\n",
              "  <thead>\n",
              "    <tr style=\"text-align: right;\">\n",
              "      <th></th>\n",
              "      <th>sepal_length</th>\n",
              "      <th>sepal_width</th>\n",
              "    </tr>\n",
              "  </thead>\n",
              "  <tbody>\n",
              "    <tr>\n",
              "      <th>Id</th>\n",
              "      <td>SepalLengthCm</td>\n",
              "      <td>SepalWidthCm</td>\n",
              "    </tr>\n",
              "    <tr>\n",
              "      <th>1</th>\n",
              "      <td>5.1</td>\n",
              "      <td>3.5</td>\n",
              "    </tr>\n",
              "    <tr>\n",
              "      <th>2</th>\n",
              "      <td>4.9</td>\n",
              "      <td>3.0</td>\n",
              "    </tr>\n",
              "    <tr>\n",
              "      <th>3</th>\n",
              "      <td>4.7</td>\n",
              "      <td>3.2</td>\n",
              "    </tr>\n",
              "    <tr>\n",
              "      <th>4</th>\n",
              "      <td>4.6</td>\n",
              "      <td>3.1</td>\n",
              "    </tr>\n",
              "    <tr>\n",
              "      <th>...</th>\n",
              "      <td>...</td>\n",
              "      <td>...</td>\n",
              "    </tr>\n",
              "    <tr>\n",
              "      <th>146</th>\n",
              "      <td>6.7</td>\n",
              "      <td>3.0</td>\n",
              "    </tr>\n",
              "    <tr>\n",
              "      <th>147</th>\n",
              "      <td>6.3</td>\n",
              "      <td>2.5</td>\n",
              "    </tr>\n",
              "    <tr>\n",
              "      <th>148</th>\n",
              "      <td>6.5</td>\n",
              "      <td>3.0</td>\n",
              "    </tr>\n",
              "    <tr>\n",
              "      <th>149</th>\n",
              "      <td>6.2</td>\n",
              "      <td>3.4</td>\n",
              "    </tr>\n",
              "    <tr>\n",
              "      <th>150</th>\n",
              "      <td>5.9</td>\n",
              "      <td>3.0</td>\n",
              "    </tr>\n",
              "  </tbody>\n",
              "</table>\n",
              "<p>151 rows × 2 columns</p>\n",
              "</div>"
            ],
            "text/plain": [
              "      sepal_length   sepal_width\n",
              "Id   SepalLengthCm  SepalWidthCm\n",
              "1              5.1           3.5\n",
              "2              4.9           3.0\n",
              "3              4.7           3.2\n",
              "4              4.6           3.1\n",
              "..             ...           ...\n",
              "146            6.7           3.0\n",
              "147            6.3           2.5\n",
              "148            6.5           3.0\n",
              "149            6.2           3.4\n",
              "150            5.9           3.0\n",
              "\n",
              "[151 rows x 2 columns]"
            ]
          },
          "metadata": {
            "tags": []
          },
          "execution_count": 26
        }
      ]
    },
    {
      "cell_type": "code",
      "metadata": {
        "colab": {
          "base_uri": "https://localhost:8080/"
        },
        "id": "xJQ_5qWgpHIq",
        "outputId": "0aa64314-e2aa-4e4e-ecc7-771a5a92e6ca"
      },
      "source": [
        "#jest to jednowymiarowa tablica z etykietami, Y typu series z biblioteki pandas\n",
        "Y = iris['target']\n",
        "Y"
      ],
      "execution_count": 24,
      "outputs": [
        {
          "output_type": "execute_result",
          "data": {
            "text/plain": [
              "Id            Species\n",
              "1         Iris-setosa\n",
              "2         Iris-setosa\n",
              "3         Iris-setosa\n",
              "4         Iris-setosa\n",
              "            ...      \n",
              "146    Iris-virginica\n",
              "147    Iris-virginica\n",
              "148    Iris-virginica\n",
              "149    Iris-virginica\n",
              "150    Iris-virginica\n",
              "Name: target, Length: 151, dtype: object"
            ]
          },
          "metadata": {
            "tags": []
          },
          "execution_count": 24
        }
      ]
    },
    {
      "cell_type": "code",
      "metadata": {
        "id": "wB1eb401rJ5x"
      },
      "source": [
        "#powyzej jedno od drugiego rozzni sie tym ze Series jest bez naglówka dlatego jest 150danych a drugie jest typu DataFrame dolicza naglowek"
      ],
      "execution_count": 27,
      "outputs": []
    },
    {
      "cell_type": "code",
      "metadata": {
        "colab": {
          "base_uri": "https://localhost:8080/"
        },
        "id": "myg0aky7qB9S",
        "outputId": "4f1332f6-6d85-454a-a200-a0b3e88dac59"
      },
      "source": [
        "#aby uzyskać liczbę wymiarów używamy .shape:\n",
        "print(Y.shape)\n",
        "print(X.shape)\n",
        "#wynikiem jesy krotka zawierajaca wielksoc macierzy lub tablicy"
      ],
      "execution_count": 29,
      "outputs": [
        {
          "output_type": "stream",
          "text": [
            "(151,)\n",
            "(151, 2)\n"
          ],
          "name": "stdout"
        }
      ]
    },
    {
      "cell_type": "code",
      "metadata": {
        "colab": {
          "base_uri": "https://localhost:8080/",
          "height": 374
        },
        "id": "MJpl289xrHAx",
        "outputId": "da77d0e6-eb69-410d-e3b5-ccc18a86f3f1"
      },
      "source": [
        "fake_dataset = pd.read_csv('a_loading_example_1.csv',sep=',') "
      ],
      "execution_count": 39,
      "outputs": [
        {
          "output_type": "error",
          "ename": "FileNotFoundError",
          "evalue": "ignored",
          "traceback": [
            "\u001b[0;31m---------------------------------------------------------------------------\u001b[0m",
            "\u001b[0;31mFileNotFoundError\u001b[0m                         Traceback (most recent call last)",
            "\u001b[0;32m<ipython-input-39-ee8260807da7>\u001b[0m in \u001b[0;36m<module>\u001b[0;34m()\u001b[0m\n\u001b[0;32m----> 1\u001b[0;31m \u001b[0mfake_dataset\u001b[0m \u001b[0;34m=\u001b[0m \u001b[0mpd\u001b[0m\u001b[0;34m.\u001b[0m\u001b[0mread_csv\u001b[0m\u001b[0;34m(\u001b[0m\u001b[0;34m'a_loading_example_1.csv'\u001b[0m\u001b[0;34m,\u001b[0m\u001b[0msep\u001b[0m\u001b[0;34m=\u001b[0m\u001b[0;34m','\u001b[0m\u001b[0;34m)\u001b[0m\u001b[0;34m\u001b[0m\u001b[0;34m\u001b[0m\u001b[0m\n\u001b[0m",
            "\u001b[0;32m/usr/local/lib/python3.7/dist-packages/pandas/io/parsers.py\u001b[0m in \u001b[0;36mread_csv\u001b[0;34m(filepath_or_buffer, sep, delimiter, header, names, index_col, usecols, squeeze, prefix, mangle_dupe_cols, dtype, engine, converters, true_values, false_values, skipinitialspace, skiprows, skipfooter, nrows, na_values, keep_default_na, na_filter, verbose, skip_blank_lines, parse_dates, infer_datetime_format, keep_date_col, date_parser, dayfirst, cache_dates, iterator, chunksize, compression, thousands, decimal, lineterminator, quotechar, quoting, doublequote, escapechar, comment, encoding, dialect, error_bad_lines, warn_bad_lines, delim_whitespace, low_memory, memory_map, float_precision)\u001b[0m\n\u001b[1;32m    686\u001b[0m     )\n\u001b[1;32m    687\u001b[0m \u001b[0;34m\u001b[0m\u001b[0m\n\u001b[0;32m--> 688\u001b[0;31m     \u001b[0;32mreturn\u001b[0m \u001b[0m_read\u001b[0m\u001b[0;34m(\u001b[0m\u001b[0mfilepath_or_buffer\u001b[0m\u001b[0;34m,\u001b[0m \u001b[0mkwds\u001b[0m\u001b[0;34m)\u001b[0m\u001b[0;34m\u001b[0m\u001b[0;34m\u001b[0m\u001b[0m\n\u001b[0m\u001b[1;32m    689\u001b[0m \u001b[0;34m\u001b[0m\u001b[0m\n\u001b[1;32m    690\u001b[0m \u001b[0;34m\u001b[0m\u001b[0m\n",
            "\u001b[0;32m/usr/local/lib/python3.7/dist-packages/pandas/io/parsers.py\u001b[0m in \u001b[0;36m_read\u001b[0;34m(filepath_or_buffer, kwds)\u001b[0m\n\u001b[1;32m    452\u001b[0m \u001b[0;34m\u001b[0m\u001b[0m\n\u001b[1;32m    453\u001b[0m     \u001b[0;31m# Create the parser.\u001b[0m\u001b[0;34m\u001b[0m\u001b[0;34m\u001b[0m\u001b[0;34m\u001b[0m\u001b[0m\n\u001b[0;32m--> 454\u001b[0;31m     \u001b[0mparser\u001b[0m \u001b[0;34m=\u001b[0m \u001b[0mTextFileReader\u001b[0m\u001b[0;34m(\u001b[0m\u001b[0mfp_or_buf\u001b[0m\u001b[0;34m,\u001b[0m \u001b[0;34m**\u001b[0m\u001b[0mkwds\u001b[0m\u001b[0;34m)\u001b[0m\u001b[0;34m\u001b[0m\u001b[0;34m\u001b[0m\u001b[0m\n\u001b[0m\u001b[1;32m    455\u001b[0m \u001b[0;34m\u001b[0m\u001b[0m\n\u001b[1;32m    456\u001b[0m     \u001b[0;32mif\u001b[0m \u001b[0mchunksize\u001b[0m \u001b[0;32mor\u001b[0m \u001b[0miterator\u001b[0m\u001b[0;34m:\u001b[0m\u001b[0;34m\u001b[0m\u001b[0;34m\u001b[0m\u001b[0m\n",
            "\u001b[0;32m/usr/local/lib/python3.7/dist-packages/pandas/io/parsers.py\u001b[0m in \u001b[0;36m__init__\u001b[0;34m(self, f, engine, **kwds)\u001b[0m\n\u001b[1;32m    946\u001b[0m             \u001b[0mself\u001b[0m\u001b[0;34m.\u001b[0m\u001b[0moptions\u001b[0m\u001b[0;34m[\u001b[0m\u001b[0;34m\"has_index_names\"\u001b[0m\u001b[0;34m]\u001b[0m \u001b[0;34m=\u001b[0m \u001b[0mkwds\u001b[0m\u001b[0;34m[\u001b[0m\u001b[0;34m\"has_index_names\"\u001b[0m\u001b[0;34m]\u001b[0m\u001b[0;34m\u001b[0m\u001b[0;34m\u001b[0m\u001b[0m\n\u001b[1;32m    947\u001b[0m \u001b[0;34m\u001b[0m\u001b[0m\n\u001b[0;32m--> 948\u001b[0;31m         \u001b[0mself\u001b[0m\u001b[0;34m.\u001b[0m\u001b[0m_make_engine\u001b[0m\u001b[0;34m(\u001b[0m\u001b[0mself\u001b[0m\u001b[0;34m.\u001b[0m\u001b[0mengine\u001b[0m\u001b[0;34m)\u001b[0m\u001b[0;34m\u001b[0m\u001b[0;34m\u001b[0m\u001b[0m\n\u001b[0m\u001b[1;32m    949\u001b[0m \u001b[0;34m\u001b[0m\u001b[0m\n\u001b[1;32m    950\u001b[0m     \u001b[0;32mdef\u001b[0m \u001b[0mclose\u001b[0m\u001b[0;34m(\u001b[0m\u001b[0mself\u001b[0m\u001b[0;34m)\u001b[0m\u001b[0;34m:\u001b[0m\u001b[0;34m\u001b[0m\u001b[0;34m\u001b[0m\u001b[0m\n",
            "\u001b[0;32m/usr/local/lib/python3.7/dist-packages/pandas/io/parsers.py\u001b[0m in \u001b[0;36m_make_engine\u001b[0;34m(self, engine)\u001b[0m\n\u001b[1;32m   1178\u001b[0m     \u001b[0;32mdef\u001b[0m \u001b[0m_make_engine\u001b[0m\u001b[0;34m(\u001b[0m\u001b[0mself\u001b[0m\u001b[0;34m,\u001b[0m \u001b[0mengine\u001b[0m\u001b[0;34m=\u001b[0m\u001b[0;34m\"c\"\u001b[0m\u001b[0;34m)\u001b[0m\u001b[0;34m:\u001b[0m\u001b[0;34m\u001b[0m\u001b[0;34m\u001b[0m\u001b[0m\n\u001b[1;32m   1179\u001b[0m         \u001b[0;32mif\u001b[0m \u001b[0mengine\u001b[0m \u001b[0;34m==\u001b[0m \u001b[0;34m\"c\"\u001b[0m\u001b[0;34m:\u001b[0m\u001b[0;34m\u001b[0m\u001b[0;34m\u001b[0m\u001b[0m\n\u001b[0;32m-> 1180\u001b[0;31m             \u001b[0mself\u001b[0m\u001b[0;34m.\u001b[0m\u001b[0m_engine\u001b[0m \u001b[0;34m=\u001b[0m \u001b[0mCParserWrapper\u001b[0m\u001b[0;34m(\u001b[0m\u001b[0mself\u001b[0m\u001b[0;34m.\u001b[0m\u001b[0mf\u001b[0m\u001b[0;34m,\u001b[0m \u001b[0;34m**\u001b[0m\u001b[0mself\u001b[0m\u001b[0;34m.\u001b[0m\u001b[0moptions\u001b[0m\u001b[0;34m)\u001b[0m\u001b[0;34m\u001b[0m\u001b[0;34m\u001b[0m\u001b[0m\n\u001b[0m\u001b[1;32m   1181\u001b[0m         \u001b[0;32melse\u001b[0m\u001b[0;34m:\u001b[0m\u001b[0;34m\u001b[0m\u001b[0;34m\u001b[0m\u001b[0m\n\u001b[1;32m   1182\u001b[0m             \u001b[0;32mif\u001b[0m \u001b[0mengine\u001b[0m \u001b[0;34m==\u001b[0m \u001b[0;34m\"python\"\u001b[0m\u001b[0;34m:\u001b[0m\u001b[0;34m\u001b[0m\u001b[0;34m\u001b[0m\u001b[0m\n",
            "\u001b[0;32m/usr/local/lib/python3.7/dist-packages/pandas/io/parsers.py\u001b[0m in \u001b[0;36m__init__\u001b[0;34m(self, src, **kwds)\u001b[0m\n\u001b[1;32m   2008\u001b[0m         \u001b[0mkwds\u001b[0m\u001b[0;34m[\u001b[0m\u001b[0;34m\"usecols\"\u001b[0m\u001b[0;34m]\u001b[0m \u001b[0;34m=\u001b[0m \u001b[0mself\u001b[0m\u001b[0;34m.\u001b[0m\u001b[0musecols\u001b[0m\u001b[0;34m\u001b[0m\u001b[0;34m\u001b[0m\u001b[0m\n\u001b[1;32m   2009\u001b[0m \u001b[0;34m\u001b[0m\u001b[0m\n\u001b[0;32m-> 2010\u001b[0;31m         \u001b[0mself\u001b[0m\u001b[0;34m.\u001b[0m\u001b[0m_reader\u001b[0m \u001b[0;34m=\u001b[0m \u001b[0mparsers\u001b[0m\u001b[0;34m.\u001b[0m\u001b[0mTextReader\u001b[0m\u001b[0;34m(\u001b[0m\u001b[0msrc\u001b[0m\u001b[0;34m,\u001b[0m \u001b[0;34m**\u001b[0m\u001b[0mkwds\u001b[0m\u001b[0;34m)\u001b[0m\u001b[0;34m\u001b[0m\u001b[0;34m\u001b[0m\u001b[0m\n\u001b[0m\u001b[1;32m   2011\u001b[0m         \u001b[0mself\u001b[0m\u001b[0;34m.\u001b[0m\u001b[0munnamed_cols\u001b[0m \u001b[0;34m=\u001b[0m \u001b[0mself\u001b[0m\u001b[0;34m.\u001b[0m\u001b[0m_reader\u001b[0m\u001b[0;34m.\u001b[0m\u001b[0munnamed_cols\u001b[0m\u001b[0;34m\u001b[0m\u001b[0;34m\u001b[0m\u001b[0m\n\u001b[1;32m   2012\u001b[0m \u001b[0;34m\u001b[0m\u001b[0m\n",
            "\u001b[0;32mpandas/_libs/parsers.pyx\u001b[0m in \u001b[0;36mpandas._libs.parsers.TextReader.__cinit__\u001b[0;34m()\u001b[0m\n",
            "\u001b[0;32mpandas/_libs/parsers.pyx\u001b[0m in \u001b[0;36mpandas._libs.parsers.TextReader._setup_parser_source\u001b[0;34m()\u001b[0m\n",
            "\u001b[0;31mFileNotFoundError\u001b[0m: [Errno 2] No such file or directory: 'a_loading_example_1.csv'"
          ]
        }
      ]
    },
    {
      "cell_type": "code",
      "metadata": {
        "id": "bJLp_U4LsyKS"
      },
      "source": [
        ""
      ],
      "execution_count": 41,
      "outputs": []
    },
    {
      "cell_type": "code",
      "metadata": {
        "colab": {
          "base_uri": "https://localhost:8080/",
          "height": 235
        },
        "id": "gm4k9QQjxGyd",
        "outputId": "c4940d5f-1724-4958-ae5b-882bb66db9e6"
      },
      "source": [
        "fake_datasets"
      ],
      "execution_count": 42,
      "outputs": [
        {
          "output_type": "execute_result",
          "data": {
            "text/html": [
              "<div>\n",
              "<style scoped>\n",
              "    .dataframe tbody tr th:only-of-type {\n",
              "        vertical-align: middle;\n",
              "    }\n",
              "\n",
              "    .dataframe tbody tr th {\n",
              "        vertical-align: top;\n",
              "    }\n",
              "\n",
              "    .dataframe thead th {\n",
              "        text-align: right;\n",
              "    }\n",
              "</style>\n",
              "<table border=\"1\" class=\"dataframe\">\n",
              "  <thead>\n",
              "    <tr style=\"text-align: right;\">\n",
              "      <th></th>\n",
              "      <th>Date</th>\n",
              "      <th>Temperature_city_1</th>\n",
              "      <th>Temperature_city_2</th>\n",
              "      <th>Temperature_city_3</th>\n",
              "      <th>Which_destination</th>\n",
              "    </tr>\n",
              "  </thead>\n",
              "  <tbody>\n",
              "    <tr>\n",
              "      <th>0</th>\n",
              "      <td>20140910</td>\n",
              "      <td>80.0</td>\n",
              "      <td>32.0</td>\n",
              "      <td>40</td>\n",
              "      <td>1</td>\n",
              "    </tr>\n",
              "    <tr>\n",
              "      <th>1</th>\n",
              "      <td>20140911</td>\n",
              "      <td>100.0</td>\n",
              "      <td>50.0</td>\n",
              "      <td>36</td>\n",
              "      <td>2</td>\n",
              "    </tr>\n",
              "    <tr>\n",
              "      <th>2</th>\n",
              "      <td>20140912</td>\n",
              "      <td>102.0</td>\n",
              "      <td>55.0</td>\n",
              "      <td>46</td>\n",
              "      <td>1</td>\n",
              "    </tr>\n",
              "    <tr>\n",
              "      <th>3</th>\n",
              "      <td>20140913</td>\n",
              "      <td>60.0</td>\n",
              "      <td>20.0</td>\n",
              "      <td>35</td>\n",
              "      <td>3</td>\n",
              "    </tr>\n",
              "    <tr>\n",
              "      <th>4</th>\n",
              "      <td>20140914</td>\n",
              "      <td>60.0</td>\n",
              "      <td>NaN</td>\n",
              "      <td>32</td>\n",
              "      <td>3</td>\n",
              "    </tr>\n",
              "    <tr>\n",
              "      <th>5</th>\n",
              "      <td>20140915</td>\n",
              "      <td>NaN</td>\n",
              "      <td>57.0</td>\n",
              "      <td>42</td>\n",
              "      <td>2</td>\n",
              "    </tr>\n",
              "  </tbody>\n",
              "</table>\n",
              "</div>"
            ],
            "text/plain": [
              "       Date  Temperature_city_1  ...  Temperature_city_3  Which_destination\n",
              "0  20140910                80.0  ...                  40                  1\n",
              "1  20140911               100.0  ...                  36                  2\n",
              "2  20140912               102.0  ...                  46                  1\n",
              "3  20140913                60.0  ...                  35                  3\n",
              "4  20140914                60.0  ...                  32                  3\n",
              "5  20140915                 NaN  ...                  42                  2\n",
              "\n",
              "[6 rows x 5 columns]"
            ]
          },
          "metadata": {
            "tags": []
          },
          "execution_count": 42
        }
      ]
    },
    {
      "cell_type": "code",
      "metadata": {
        "id": "H9cRSzB3xMsT"
      },
      "source": [
        "file_name = \"/content/code_final_version_chapter_2_a_loading_example_1.csv\"\n",
        "\n",
        "fake_datasets = pd.read_csv(file_name, sep=',')"
      ],
      "execution_count": 44,
      "outputs": []
    },
    {
      "cell_type": "code",
      "metadata": {
        "colab": {
          "base_uri": "https://localhost:8080/",
          "height": 235
        },
        "id": "gbwUacuQxm47",
        "outputId": "a78bba27-f537-479c-8626-92ba0755817c"
      },
      "source": [
        "fake_datasets"
      ],
      "execution_count": 45,
      "outputs": [
        {
          "output_type": "execute_result",
          "data": {
            "text/html": [
              "<div>\n",
              "<style scoped>\n",
              "    .dataframe tbody tr th:only-of-type {\n",
              "        vertical-align: middle;\n",
              "    }\n",
              "\n",
              "    .dataframe tbody tr th {\n",
              "        vertical-align: top;\n",
              "    }\n",
              "\n",
              "    .dataframe thead th {\n",
              "        text-align: right;\n",
              "    }\n",
              "</style>\n",
              "<table border=\"1\" class=\"dataframe\">\n",
              "  <thead>\n",
              "    <tr style=\"text-align: right;\">\n",
              "      <th></th>\n",
              "      <th>Date</th>\n",
              "      <th>Temperature_city_1</th>\n",
              "      <th>Temperature_city_2</th>\n",
              "      <th>Temperature_city_3</th>\n",
              "      <th>Which_destination</th>\n",
              "    </tr>\n",
              "  </thead>\n",
              "  <tbody>\n",
              "    <tr>\n",
              "      <th>0</th>\n",
              "      <td>20140910</td>\n",
              "      <td>80.0</td>\n",
              "      <td>32.0</td>\n",
              "      <td>40</td>\n",
              "      <td>1</td>\n",
              "    </tr>\n",
              "    <tr>\n",
              "      <th>1</th>\n",
              "      <td>20140911</td>\n",
              "      <td>100.0</td>\n",
              "      <td>50.0</td>\n",
              "      <td>36</td>\n",
              "      <td>2</td>\n",
              "    </tr>\n",
              "    <tr>\n",
              "      <th>2</th>\n",
              "      <td>20140912</td>\n",
              "      <td>102.0</td>\n",
              "      <td>55.0</td>\n",
              "      <td>46</td>\n",
              "      <td>1</td>\n",
              "    </tr>\n",
              "    <tr>\n",
              "      <th>3</th>\n",
              "      <td>20140913</td>\n",
              "      <td>60.0</td>\n",
              "      <td>20.0</td>\n",
              "      <td>35</td>\n",
              "      <td>3</td>\n",
              "    </tr>\n",
              "    <tr>\n",
              "      <th>4</th>\n",
              "      <td>20140914</td>\n",
              "      <td>60.0</td>\n",
              "      <td>NaN</td>\n",
              "      <td>32</td>\n",
              "      <td>3</td>\n",
              "    </tr>\n",
              "    <tr>\n",
              "      <th>5</th>\n",
              "      <td>20140915</td>\n",
              "      <td>NaN</td>\n",
              "      <td>57.0</td>\n",
              "      <td>42</td>\n",
              "      <td>2</td>\n",
              "    </tr>\n",
              "  </tbody>\n",
              "</table>\n",
              "</div>"
            ],
            "text/plain": [
              "       Date  Temperature_city_1  ...  Temperature_city_3  Which_destination\n",
              "0  20140910                80.0  ...                  40                  1\n",
              "1  20140911               100.0  ...                  36                  2\n",
              "2  20140912               102.0  ...                  46                  1\n",
              "3  20140913                60.0  ...                  35                  3\n",
              "4  20140914                60.0  ...                  32                  3\n",
              "5  20140915                 NaN  ...                  42                  2\n",
              "\n",
              "[6 rows x 5 columns]"
            ]
          },
          "metadata": {
            "tags": []
          },
          "execution_count": 45
        }
      ]
    },
    {
      "cell_type": "code",
      "metadata": {
        "id": "2DNOtH3Sxuub"
      },
      "source": [
        "#jak widac powyzej, pierwsza  kolumna to daty, a zostala przetworzona jako ciag znakow, aby to zmienic mozemy podac kolumne 0 i zdefiniowac jako format daty\n",
        "fake_datasets = pd.read_csv(file_name, parse_dates=[0])"
      ],
      "execution_count": 47,
      "outputs": []
    },
    {
      "cell_type": "code",
      "metadata": {
        "colab": {
          "base_uri": "https://localhost:8080/",
          "height": 235
        },
        "id": "Bv8CzjhQyS2m",
        "outputId": "55f8b448-441e-4e9d-a917-b5bd73e510dc"
      },
      "source": [
        "fake_datasets"
      ],
      "execution_count": 48,
      "outputs": [
        {
          "output_type": "execute_result",
          "data": {
            "text/html": [
              "<div>\n",
              "<style scoped>\n",
              "    .dataframe tbody tr th:only-of-type {\n",
              "        vertical-align: middle;\n",
              "    }\n",
              "\n",
              "    .dataframe tbody tr th {\n",
              "        vertical-align: top;\n",
              "    }\n",
              "\n",
              "    .dataframe thead th {\n",
              "        text-align: right;\n",
              "    }\n",
              "</style>\n",
              "<table border=\"1\" class=\"dataframe\">\n",
              "  <thead>\n",
              "    <tr style=\"text-align: right;\">\n",
              "      <th></th>\n",
              "      <th>Date</th>\n",
              "      <th>Temperature_city_1</th>\n",
              "      <th>Temperature_city_2</th>\n",
              "      <th>Temperature_city_3</th>\n",
              "      <th>Which_destination</th>\n",
              "    </tr>\n",
              "  </thead>\n",
              "  <tbody>\n",
              "    <tr>\n",
              "      <th>0</th>\n",
              "      <td>2014-09-10</td>\n",
              "      <td>80.0</td>\n",
              "      <td>32.0</td>\n",
              "      <td>40</td>\n",
              "      <td>1</td>\n",
              "    </tr>\n",
              "    <tr>\n",
              "      <th>1</th>\n",
              "      <td>2014-09-11</td>\n",
              "      <td>100.0</td>\n",
              "      <td>50.0</td>\n",
              "      <td>36</td>\n",
              "      <td>2</td>\n",
              "    </tr>\n",
              "    <tr>\n",
              "      <th>2</th>\n",
              "      <td>2014-09-12</td>\n",
              "      <td>102.0</td>\n",
              "      <td>55.0</td>\n",
              "      <td>46</td>\n",
              "      <td>1</td>\n",
              "    </tr>\n",
              "    <tr>\n",
              "      <th>3</th>\n",
              "      <td>2014-09-13</td>\n",
              "      <td>60.0</td>\n",
              "      <td>20.0</td>\n",
              "      <td>35</td>\n",
              "      <td>3</td>\n",
              "    </tr>\n",
              "    <tr>\n",
              "      <th>4</th>\n",
              "      <td>2014-09-14</td>\n",
              "      <td>60.0</td>\n",
              "      <td>NaN</td>\n",
              "      <td>32</td>\n",
              "      <td>3</td>\n",
              "    </tr>\n",
              "    <tr>\n",
              "      <th>5</th>\n",
              "      <td>2014-09-15</td>\n",
              "      <td>NaN</td>\n",
              "      <td>57.0</td>\n",
              "      <td>42</td>\n",
              "      <td>2</td>\n",
              "    </tr>\n",
              "  </tbody>\n",
              "</table>\n",
              "</div>"
            ],
            "text/plain": [
              "        Date  Temperature_city_1  ...  Temperature_city_3  Which_destination\n",
              "0 2014-09-10                80.0  ...                  40                  1\n",
              "1 2014-09-11               100.0  ...                  36                  2\n",
              "2 2014-09-12               102.0  ...                  46                  1\n",
              "3 2014-09-13                60.0  ...                  35                  3\n",
              "4 2014-09-14                60.0  ...                  32                  3\n",
              "5 2014-09-15                 NaN  ...                  42                  2\n",
              "\n",
              "[6 rows x 5 columns]"
            ]
          },
          "metadata": {
            "tags": []
          },
          "execution_count": 48
        }
      ]
    },
    {
      "cell_type": "code",
      "metadata": {
        "id": "7vvHqcM-ydyH"
      },
      "source": [
        "#problem rozwiązany za pomocą parse_dates\n"
      ],
      "execution_count": 49,
      "outputs": []
    },
    {
      "cell_type": "code",
      "metadata": {
        "colab": {
          "base_uri": "https://localhost:8080/",
          "height": 235
        },
        "id": "9t-Vx6r-ylgO",
        "outputId": "838f2cf0-b46c-42cb-e61a-03f6d62be615"
      },
      "source": [
        "#teraz zajmiemy sie lukami tam gdzie nie ma wartosci lub sa inne niz dozwolone NAN = not a number, można je zastapic sensownymi liczbami poniżej potrzebna instrukcja aby zmienic dane\n",
        "fake_datasets.fillna(50) #zamieniamy wszystkie wartosci NAN -> 50"
      ],
      "execution_count": 50,
      "outputs": [
        {
          "output_type": "execute_result",
          "data": {
            "text/html": [
              "<div>\n",
              "<style scoped>\n",
              "    .dataframe tbody tr th:only-of-type {\n",
              "        vertical-align: middle;\n",
              "    }\n",
              "\n",
              "    .dataframe tbody tr th {\n",
              "        vertical-align: top;\n",
              "    }\n",
              "\n",
              "    .dataframe thead th {\n",
              "        text-align: right;\n",
              "    }\n",
              "</style>\n",
              "<table border=\"1\" class=\"dataframe\">\n",
              "  <thead>\n",
              "    <tr style=\"text-align: right;\">\n",
              "      <th></th>\n",
              "      <th>Date</th>\n",
              "      <th>Temperature_city_1</th>\n",
              "      <th>Temperature_city_2</th>\n",
              "      <th>Temperature_city_3</th>\n",
              "      <th>Which_destination</th>\n",
              "    </tr>\n",
              "  </thead>\n",
              "  <tbody>\n",
              "    <tr>\n",
              "      <th>0</th>\n",
              "      <td>2014-09-10</td>\n",
              "      <td>80.0</td>\n",
              "      <td>32.0</td>\n",
              "      <td>40</td>\n",
              "      <td>1</td>\n",
              "    </tr>\n",
              "    <tr>\n",
              "      <th>1</th>\n",
              "      <td>2014-09-11</td>\n",
              "      <td>100.0</td>\n",
              "      <td>50.0</td>\n",
              "      <td>36</td>\n",
              "      <td>2</td>\n",
              "    </tr>\n",
              "    <tr>\n",
              "      <th>2</th>\n",
              "      <td>2014-09-12</td>\n",
              "      <td>102.0</td>\n",
              "      <td>55.0</td>\n",
              "      <td>46</td>\n",
              "      <td>1</td>\n",
              "    </tr>\n",
              "    <tr>\n",
              "      <th>3</th>\n",
              "      <td>2014-09-13</td>\n",
              "      <td>60.0</td>\n",
              "      <td>20.0</td>\n",
              "      <td>35</td>\n",
              "      <td>3</td>\n",
              "    </tr>\n",
              "    <tr>\n",
              "      <th>4</th>\n",
              "      <td>2014-09-14</td>\n",
              "      <td>60.0</td>\n",
              "      <td>50.0</td>\n",
              "      <td>32</td>\n",
              "      <td>3</td>\n",
              "    </tr>\n",
              "    <tr>\n",
              "      <th>5</th>\n",
              "      <td>2014-09-15</td>\n",
              "      <td>50.0</td>\n",
              "      <td>57.0</td>\n",
              "      <td>42</td>\n",
              "      <td>2</td>\n",
              "    </tr>\n",
              "  </tbody>\n",
              "</table>\n",
              "</div>"
            ],
            "text/plain": [
              "        Date  Temperature_city_1  ...  Temperature_city_3  Which_destination\n",
              "0 2014-09-10                80.0  ...                  40                  1\n",
              "1 2014-09-11               100.0  ...                  36                  2\n",
              "2 2014-09-12               102.0  ...                  46                  1\n",
              "3 2014-09-13                60.0  ...                  35                  3\n",
              "4 2014-09-14                60.0  ...                  32                  3\n",
              "5 2014-09-15                50.0  ...                  42                  2\n",
              "\n",
              "[6 rows x 5 columns]"
            ]
          },
          "metadata": {
            "tags": []
          },
          "execution_count": 50
        }
      ]
    },
    {
      "cell_type": "code",
      "metadata": {
        "colab": {
          "base_uri": "https://localhost:8080/",
          "height": 235
        },
        "id": "isme1leYzF62",
        "outputId": "e6386c70-2325-4b01-8ea7-71be60f407ba"
      },
      "source": [
        "#lub zasapic to ujemna wartoscia ktora z gory zasygnalizuje nam ze cos jest nie tak\n",
        "fake_datasets.fillna(-1)"
      ],
      "execution_count": 51,
      "outputs": [
        {
          "output_type": "execute_result",
          "data": {
            "text/html": [
              "<div>\n",
              "<style scoped>\n",
              "    .dataframe tbody tr th:only-of-type {\n",
              "        vertical-align: middle;\n",
              "    }\n",
              "\n",
              "    .dataframe tbody tr th {\n",
              "        vertical-align: top;\n",
              "    }\n",
              "\n",
              "    .dataframe thead th {\n",
              "        text-align: right;\n",
              "    }\n",
              "</style>\n",
              "<table border=\"1\" class=\"dataframe\">\n",
              "  <thead>\n",
              "    <tr style=\"text-align: right;\">\n",
              "      <th></th>\n",
              "      <th>Date</th>\n",
              "      <th>Temperature_city_1</th>\n",
              "      <th>Temperature_city_2</th>\n",
              "      <th>Temperature_city_3</th>\n",
              "      <th>Which_destination</th>\n",
              "    </tr>\n",
              "  </thead>\n",
              "  <tbody>\n",
              "    <tr>\n",
              "      <th>0</th>\n",
              "      <td>2014-09-10</td>\n",
              "      <td>80.0</td>\n",
              "      <td>32.0</td>\n",
              "      <td>40</td>\n",
              "      <td>1</td>\n",
              "    </tr>\n",
              "    <tr>\n",
              "      <th>1</th>\n",
              "      <td>2014-09-11</td>\n",
              "      <td>100.0</td>\n",
              "      <td>50.0</td>\n",
              "      <td>36</td>\n",
              "      <td>2</td>\n",
              "    </tr>\n",
              "    <tr>\n",
              "      <th>2</th>\n",
              "      <td>2014-09-12</td>\n",
              "      <td>102.0</td>\n",
              "      <td>55.0</td>\n",
              "      <td>46</td>\n",
              "      <td>1</td>\n",
              "    </tr>\n",
              "    <tr>\n",
              "      <th>3</th>\n",
              "      <td>2014-09-13</td>\n",
              "      <td>60.0</td>\n",
              "      <td>20.0</td>\n",
              "      <td>35</td>\n",
              "      <td>3</td>\n",
              "    </tr>\n",
              "    <tr>\n",
              "      <th>4</th>\n",
              "      <td>2014-09-14</td>\n",
              "      <td>60.0</td>\n",
              "      <td>-1.0</td>\n",
              "      <td>32</td>\n",
              "      <td>3</td>\n",
              "    </tr>\n",
              "    <tr>\n",
              "      <th>5</th>\n",
              "      <td>2014-09-15</td>\n",
              "      <td>-1.0</td>\n",
              "      <td>57.0</td>\n",
              "      <td>42</td>\n",
              "      <td>2</td>\n",
              "    </tr>\n",
              "  </tbody>\n",
              "</table>\n",
              "</div>"
            ],
            "text/plain": [
              "        Date  Temperature_city_1  ...  Temperature_city_3  Which_destination\n",
              "0 2014-09-10                80.0  ...                  40                  1\n",
              "1 2014-09-11               100.0  ...                  36                  2\n",
              "2 2014-09-12               102.0  ...                  46                  1\n",
              "3 2014-09-13                60.0  ...                  35                  3\n",
              "4 2014-09-14                60.0  ...                  32                  3\n",
              "5 2014-09-15                -1.0  ...                  42                  2\n",
              "\n",
              "[6 rows x 5 columns]"
            ]
          },
          "metadata": {
            "tags": []
          },
          "execution_count": 51
        }
      ]
    },
    {
      "cell_type": "code",
      "metadata": {
        "colab": {
          "base_uri": "https://localhost:8080/",
          "height": 289
        },
        "id": "RHiTFrfIzgfg",
        "outputId": "ec387a34-2b62-4ade-eba1-e712651b792d"
      },
      "source": [
        "#kolejny przyklad zastapienia wartosci NAN jest wpisanie wartosci sredniej z danej kolumny co pozwala nam zminimalizowac blad zgadywania brakujacej wartosci\n",
        "fake_datasets.fillna(fake_datasets.mean(axis=0))"
      ],
      "execution_count": 52,
      "outputs": [
        {
          "output_type": "stream",
          "text": [
            "/usr/local/lib/python3.7/dist-packages/ipykernel_launcher.py:2: FutureWarning: DataFrame.mean and DataFrame.median with numeric_only=None will include datetime64 and datetime64tz columns in a future version.\n",
            "  \n"
          ],
          "name": "stderr"
        },
        {
          "output_type": "execute_result",
          "data": {
            "text/html": [
              "<div>\n",
              "<style scoped>\n",
              "    .dataframe tbody tr th:only-of-type {\n",
              "        vertical-align: middle;\n",
              "    }\n",
              "\n",
              "    .dataframe tbody tr th {\n",
              "        vertical-align: top;\n",
              "    }\n",
              "\n",
              "    .dataframe thead th {\n",
              "        text-align: right;\n",
              "    }\n",
              "</style>\n",
              "<table border=\"1\" class=\"dataframe\">\n",
              "  <thead>\n",
              "    <tr style=\"text-align: right;\">\n",
              "      <th></th>\n",
              "      <th>Date</th>\n",
              "      <th>Temperature_city_1</th>\n",
              "      <th>Temperature_city_2</th>\n",
              "      <th>Temperature_city_3</th>\n",
              "      <th>Which_destination</th>\n",
              "    </tr>\n",
              "  </thead>\n",
              "  <tbody>\n",
              "    <tr>\n",
              "      <th>0</th>\n",
              "      <td>2014-09-10</td>\n",
              "      <td>80.0</td>\n",
              "      <td>32.0</td>\n",
              "      <td>40</td>\n",
              "      <td>1</td>\n",
              "    </tr>\n",
              "    <tr>\n",
              "      <th>1</th>\n",
              "      <td>2014-09-11</td>\n",
              "      <td>100.0</td>\n",
              "      <td>50.0</td>\n",
              "      <td>36</td>\n",
              "      <td>2</td>\n",
              "    </tr>\n",
              "    <tr>\n",
              "      <th>2</th>\n",
              "      <td>2014-09-12</td>\n",
              "      <td>102.0</td>\n",
              "      <td>55.0</td>\n",
              "      <td>46</td>\n",
              "      <td>1</td>\n",
              "    </tr>\n",
              "    <tr>\n",
              "      <th>3</th>\n",
              "      <td>2014-09-13</td>\n",
              "      <td>60.0</td>\n",
              "      <td>20.0</td>\n",
              "      <td>35</td>\n",
              "      <td>3</td>\n",
              "    </tr>\n",
              "    <tr>\n",
              "      <th>4</th>\n",
              "      <td>2014-09-14</td>\n",
              "      <td>60.0</td>\n",
              "      <td>42.8</td>\n",
              "      <td>32</td>\n",
              "      <td>3</td>\n",
              "    </tr>\n",
              "    <tr>\n",
              "      <th>5</th>\n",
              "      <td>2014-09-15</td>\n",
              "      <td>80.4</td>\n",
              "      <td>57.0</td>\n",
              "      <td>42</td>\n",
              "      <td>2</td>\n",
              "    </tr>\n",
              "  </tbody>\n",
              "</table>\n",
              "</div>"
            ],
            "text/plain": [
              "        Date  Temperature_city_1  ...  Temperature_city_3  Which_destination\n",
              "0 2014-09-10                80.0  ...                  40                  1\n",
              "1 2014-09-11               100.0  ...                  36                  2\n",
              "2 2014-09-12               102.0  ...                  46                  1\n",
              "3 2014-09-13                60.0  ...                  35                  3\n",
              "4 2014-09-14                60.0  ...                  32                  3\n",
              "5 2014-09-15                80.4  ...                  42                  2\n",
              "\n",
              "[6 rows x 5 columns]"
            ]
          },
          "metadata": {
            "tags": []
          },
          "execution_count": 52
        }
      ]
    },
    {
      "cell_type": "code",
      "metadata": {
        "id": "dj-BDWtfz5kl"
      },
      "source": [
        "# metoda .mean oblicza srednia arytmetyczna wartosci okreslonej osi, axis=0 oznacza obliczanie średniej z uwzglednieniem wielu wierszy. srednie sa wtedy obliczane dla kolumn"
      ],
      "execution_count": 53,
      "outputs": []
    },
    {
      "cell_type": "code",
      "metadata": {
        "id": "HICvwDgX0fZG"
      },
      "source": [
        ""
      ],
      "execution_count": null,
      "outputs": []
    },
    {
      "cell_type": "markdown",
      "metadata": {
        "id": "FqHxjMPM0gx-"
      },
      "source": [
        "jeśli w danych występują błędy w wierszach, zostanie wygenerowany błąd. Dlatego jedną z metod jest ominięcie błędych wierszy o ile nie przeważają znacząco danych."
      ]
    },
    {
      "cell_type": "code",
      "metadata": {
        "colab": {
          "base_uri": "https://localhost:8080/",
          "height": 159
        },
        "id": "gVrbhy941bpl",
        "outputId": "5c1bd51b-a75a-47e2-c515-0565b63a4b48"
      },
      "source": [
        "path = \"/content/code_final_version_chapter_2_a_loading_example_2.csv\"\n",
        "# error_bad_lines=False poowduje wyswietlenie tych danych, bez tego wystepuje blad\n",
        "fake_d2 = pd.read_csv(path,sep=\",\",error_bad_lines=False)\n",
        "fake_d2"
      ],
      "execution_count": 58,
      "outputs": [
        {
          "output_type": "stream",
          "text": [
            "b'Skipping line 4: expected 3 fields, saw 4\\n'\n"
          ],
          "name": "stderr"
        },
        {
          "output_type": "execute_result",
          "data": {
            "text/html": [
              "<div>\n",
              "<style scoped>\n",
              "    .dataframe tbody tr th:only-of-type {\n",
              "        vertical-align: middle;\n",
              "    }\n",
              "\n",
              "    .dataframe tbody tr th {\n",
              "        vertical-align: top;\n",
              "    }\n",
              "\n",
              "    .dataframe thead th {\n",
              "        text-align: right;\n",
              "    }\n",
              "</style>\n",
              "<table border=\"1\" class=\"dataframe\">\n",
              "  <thead>\n",
              "    <tr style=\"text-align: right;\">\n",
              "      <th></th>\n",
              "      <th>Val1</th>\n",
              "      <th>Val2</th>\n",
              "      <th>Val3</th>\n",
              "    </tr>\n",
              "  </thead>\n",
              "  <tbody>\n",
              "    <tr>\n",
              "      <th>0</th>\n",
              "      <td>0</td>\n",
              "      <td>0</td>\n",
              "      <td>0</td>\n",
              "    </tr>\n",
              "    <tr>\n",
              "      <th>1</th>\n",
              "      <td>1</td>\n",
              "      <td>1</td>\n",
              "      <td>1</td>\n",
              "    </tr>\n",
              "    <tr>\n",
              "      <th>2</th>\n",
              "      <td>3</td>\n",
              "      <td>3</td>\n",
              "      <td>3</td>\n",
              "    </tr>\n",
              "  </tbody>\n",
              "</table>\n",
              "</div>"
            ],
            "text/plain": [
              "   Val1  Val2  Val3\n",
              "0     0     0     0\n",
              "1     1     1     1\n",
              "2     3     3     3"
            ]
          },
          "metadata": {
            "tags": []
          },
          "execution_count": 58
        }
      ]
    },
    {
      "cell_type": "code",
      "metadata": {
        "colab": {
          "base_uri": "https://localhost:8080/",
          "height": 510
        },
        "id": "A9SVkV4p2OLR",
        "outputId": "860c67ed-e352-4454-ccb2-162b23ebbb3c"
      },
      "source": [
        "#bez error_bad_lines\n",
        "fake_d2 = pd.read_csv(path,sep=\",\")\n",
        "fake_d2"
      ],
      "execution_count": 60,
      "outputs": [
        {
          "output_type": "error",
          "ename": "ParserError",
          "evalue": "ignored",
          "traceback": [
            "\u001b[0;31m---------------------------------------------------------------------------\u001b[0m",
            "\u001b[0;31mParserError\u001b[0m                               Traceback (most recent call last)",
            "\u001b[0;32m<ipython-input-60-ff8a4f8e7b27>\u001b[0m in \u001b[0;36m<module>\u001b[0;34m()\u001b[0m\n\u001b[1;32m      1\u001b[0m \u001b[0;31m#bez error_bad_lines\u001b[0m\u001b[0;34m\u001b[0m\u001b[0;34m\u001b[0m\u001b[0;34m\u001b[0m\u001b[0m\n\u001b[0;32m----> 2\u001b[0;31m \u001b[0mfake_d2\u001b[0m \u001b[0;34m=\u001b[0m \u001b[0mpd\u001b[0m\u001b[0;34m.\u001b[0m\u001b[0mread_csv\u001b[0m\u001b[0;34m(\u001b[0m\u001b[0mpath\u001b[0m\u001b[0;34m,\u001b[0m\u001b[0msep\u001b[0m\u001b[0;34m=\u001b[0m\u001b[0;34m\",\"\u001b[0m\u001b[0;34m)\u001b[0m\u001b[0;34m\u001b[0m\u001b[0;34m\u001b[0m\u001b[0m\n\u001b[0m\u001b[1;32m      3\u001b[0m \u001b[0mfake_d2\u001b[0m\u001b[0;34m\u001b[0m\u001b[0;34m\u001b[0m\u001b[0m\n",
            "\u001b[0;32m/usr/local/lib/python3.7/dist-packages/pandas/io/parsers.py\u001b[0m in \u001b[0;36mread_csv\u001b[0;34m(filepath_or_buffer, sep, delimiter, header, names, index_col, usecols, squeeze, prefix, mangle_dupe_cols, dtype, engine, converters, true_values, false_values, skipinitialspace, skiprows, skipfooter, nrows, na_values, keep_default_na, na_filter, verbose, skip_blank_lines, parse_dates, infer_datetime_format, keep_date_col, date_parser, dayfirst, cache_dates, iterator, chunksize, compression, thousands, decimal, lineterminator, quotechar, quoting, doublequote, escapechar, comment, encoding, dialect, error_bad_lines, warn_bad_lines, delim_whitespace, low_memory, memory_map, float_precision)\u001b[0m\n\u001b[1;32m    686\u001b[0m     )\n\u001b[1;32m    687\u001b[0m \u001b[0;34m\u001b[0m\u001b[0m\n\u001b[0;32m--> 688\u001b[0;31m     \u001b[0;32mreturn\u001b[0m \u001b[0m_read\u001b[0m\u001b[0;34m(\u001b[0m\u001b[0mfilepath_or_buffer\u001b[0m\u001b[0;34m,\u001b[0m \u001b[0mkwds\u001b[0m\u001b[0;34m)\u001b[0m\u001b[0;34m\u001b[0m\u001b[0;34m\u001b[0m\u001b[0m\n\u001b[0m\u001b[1;32m    689\u001b[0m \u001b[0;34m\u001b[0m\u001b[0m\n\u001b[1;32m    690\u001b[0m \u001b[0;34m\u001b[0m\u001b[0m\n",
            "\u001b[0;32m/usr/local/lib/python3.7/dist-packages/pandas/io/parsers.py\u001b[0m in \u001b[0;36m_read\u001b[0;34m(filepath_or_buffer, kwds)\u001b[0m\n\u001b[1;32m    458\u001b[0m \u001b[0;34m\u001b[0m\u001b[0m\n\u001b[1;32m    459\u001b[0m     \u001b[0;32mtry\u001b[0m\u001b[0;34m:\u001b[0m\u001b[0;34m\u001b[0m\u001b[0;34m\u001b[0m\u001b[0m\n\u001b[0;32m--> 460\u001b[0;31m         \u001b[0mdata\u001b[0m \u001b[0;34m=\u001b[0m \u001b[0mparser\u001b[0m\u001b[0;34m.\u001b[0m\u001b[0mread\u001b[0m\u001b[0;34m(\u001b[0m\u001b[0mnrows\u001b[0m\u001b[0;34m)\u001b[0m\u001b[0;34m\u001b[0m\u001b[0;34m\u001b[0m\u001b[0m\n\u001b[0m\u001b[1;32m    461\u001b[0m     \u001b[0;32mfinally\u001b[0m\u001b[0;34m:\u001b[0m\u001b[0;34m\u001b[0m\u001b[0;34m\u001b[0m\u001b[0m\n\u001b[1;32m    462\u001b[0m         \u001b[0mparser\u001b[0m\u001b[0;34m.\u001b[0m\u001b[0mclose\u001b[0m\u001b[0;34m(\u001b[0m\u001b[0;34m)\u001b[0m\u001b[0;34m\u001b[0m\u001b[0;34m\u001b[0m\u001b[0m\n",
            "\u001b[0;32m/usr/local/lib/python3.7/dist-packages/pandas/io/parsers.py\u001b[0m in \u001b[0;36mread\u001b[0;34m(self, nrows)\u001b[0m\n\u001b[1;32m   1196\u001b[0m     \u001b[0;32mdef\u001b[0m \u001b[0mread\u001b[0m\u001b[0;34m(\u001b[0m\u001b[0mself\u001b[0m\u001b[0;34m,\u001b[0m \u001b[0mnrows\u001b[0m\u001b[0;34m=\u001b[0m\u001b[0;32mNone\u001b[0m\u001b[0;34m)\u001b[0m\u001b[0;34m:\u001b[0m\u001b[0;34m\u001b[0m\u001b[0;34m\u001b[0m\u001b[0m\n\u001b[1;32m   1197\u001b[0m         \u001b[0mnrows\u001b[0m \u001b[0;34m=\u001b[0m \u001b[0m_validate_integer\u001b[0m\u001b[0;34m(\u001b[0m\u001b[0;34m\"nrows\"\u001b[0m\u001b[0;34m,\u001b[0m \u001b[0mnrows\u001b[0m\u001b[0;34m)\u001b[0m\u001b[0;34m\u001b[0m\u001b[0;34m\u001b[0m\u001b[0m\n\u001b[0;32m-> 1198\u001b[0;31m         \u001b[0mret\u001b[0m \u001b[0;34m=\u001b[0m \u001b[0mself\u001b[0m\u001b[0;34m.\u001b[0m\u001b[0m_engine\u001b[0m\u001b[0;34m.\u001b[0m\u001b[0mread\u001b[0m\u001b[0;34m(\u001b[0m\u001b[0mnrows\u001b[0m\u001b[0;34m)\u001b[0m\u001b[0;34m\u001b[0m\u001b[0;34m\u001b[0m\u001b[0m\n\u001b[0m\u001b[1;32m   1199\u001b[0m \u001b[0;34m\u001b[0m\u001b[0m\n\u001b[1;32m   1200\u001b[0m         \u001b[0;31m# May alter columns / col_dict\u001b[0m\u001b[0;34m\u001b[0m\u001b[0;34m\u001b[0m\u001b[0;34m\u001b[0m\u001b[0m\n",
            "\u001b[0;32m/usr/local/lib/python3.7/dist-packages/pandas/io/parsers.py\u001b[0m in \u001b[0;36mread\u001b[0;34m(self, nrows)\u001b[0m\n\u001b[1;32m   2155\u001b[0m     \u001b[0;32mdef\u001b[0m \u001b[0mread\u001b[0m\u001b[0;34m(\u001b[0m\u001b[0mself\u001b[0m\u001b[0;34m,\u001b[0m \u001b[0mnrows\u001b[0m\u001b[0;34m=\u001b[0m\u001b[0;32mNone\u001b[0m\u001b[0;34m)\u001b[0m\u001b[0;34m:\u001b[0m\u001b[0;34m\u001b[0m\u001b[0;34m\u001b[0m\u001b[0m\n\u001b[1;32m   2156\u001b[0m         \u001b[0;32mtry\u001b[0m\u001b[0;34m:\u001b[0m\u001b[0;34m\u001b[0m\u001b[0;34m\u001b[0m\u001b[0m\n\u001b[0;32m-> 2157\u001b[0;31m             \u001b[0mdata\u001b[0m \u001b[0;34m=\u001b[0m \u001b[0mself\u001b[0m\u001b[0;34m.\u001b[0m\u001b[0m_reader\u001b[0m\u001b[0;34m.\u001b[0m\u001b[0mread\u001b[0m\u001b[0;34m(\u001b[0m\u001b[0mnrows\u001b[0m\u001b[0;34m)\u001b[0m\u001b[0;34m\u001b[0m\u001b[0;34m\u001b[0m\u001b[0m\n\u001b[0m\u001b[1;32m   2158\u001b[0m         \u001b[0;32mexcept\u001b[0m \u001b[0mStopIteration\u001b[0m\u001b[0;34m:\u001b[0m\u001b[0;34m\u001b[0m\u001b[0;34m\u001b[0m\u001b[0m\n\u001b[1;32m   2159\u001b[0m             \u001b[0;32mif\u001b[0m \u001b[0mself\u001b[0m\u001b[0;34m.\u001b[0m\u001b[0m_first_chunk\u001b[0m\u001b[0;34m:\u001b[0m\u001b[0;34m\u001b[0m\u001b[0;34m\u001b[0m\u001b[0m\n",
            "\u001b[0;32mpandas/_libs/parsers.pyx\u001b[0m in \u001b[0;36mpandas._libs.parsers.TextReader.read\u001b[0;34m()\u001b[0m\n",
            "\u001b[0;32mpandas/_libs/parsers.pyx\u001b[0m in \u001b[0;36mpandas._libs.parsers.TextReader._read_low_memory\u001b[0;34m()\u001b[0m\n",
            "\u001b[0;32mpandas/_libs/parsers.pyx\u001b[0m in \u001b[0;36mpandas._libs.parsers.TextReader._read_rows\u001b[0;34m()\u001b[0m\n",
            "\u001b[0;32mpandas/_libs/parsers.pyx\u001b[0m in \u001b[0;36mpandas._libs.parsers.TextReader._tokenize_rows\u001b[0;34m()\u001b[0m\n",
            "\u001b[0;32mpandas/_libs/parsers.pyx\u001b[0m in \u001b[0;36mpandas._libs.parsers.raise_parser_error\u001b[0;34m()\u001b[0m\n",
            "\u001b[0;31mParserError\u001b[0m: Error tokenizing data. C error: Expected 3 fields in line 4, saw 4\n"
          ]
        }
      ]
    },
    {
      "cell_type": "code",
      "metadata": {
        "id": "LYA-g-Lj1qB-"
      },
      "source": [
        "#jak widac wyzej wystepuje przerwanie z bledem wiec teraz ominiemy wiersze ktore to powoduja"
      ],
      "execution_count": 59,
      "outputs": []
    },
    {
      "cell_type": "code",
      "metadata": {
        "colab": {
          "base_uri": "https://localhost:8080/"
        },
        "id": "ksjGRbbL1zFV",
        "outputId": "9c0a93b0-97cd-47b3-af3b-b6d6f1e3a044"
      },
      "source": [
        "iris_filename = \"/content/Iris.csv\"\n",
        "#metoda ktora dzieli na kawalki nasze dane, kazda porcja danych zawiera wszystkie kolumny i ograniczona liczbe wierszy nie wiecej niz okreslono w chunksize. wyswietlane za pomoca petli jako iteracja a nie DataFrame\n",
        "iris_chunks = pd.read_csv(iris_filename, header=None,names=['C1','C2','C3','C4','C5'],chunksize=10)\n",
        "\n",
        "for chunk in iris_chunks:\n",
        "  print('Wymiary:',chunk.shape)\n",
        "  print(chunk,'\\n')"
      ],
      "execution_count": 62,
      "outputs": [
        {
          "output_type": "stream",
          "text": [
            "Wymiary: (10, 5)\n",
            "               C1            C2             C3            C4           C5\n",
            "Id  SepalLengthCm  SepalWidthCm  PetalLengthCm  PetalWidthCm      Species\n",
            "1             5.1           3.5            1.4           0.2  Iris-setosa\n",
            "2             4.9           3.0            1.4           0.2  Iris-setosa\n",
            "3             4.7           3.2            1.3           0.2  Iris-setosa\n",
            "4             4.6           3.1            1.5           0.2  Iris-setosa\n",
            "5             5.0           3.6            1.4           0.2  Iris-setosa\n",
            "6             5.4           3.9            1.7           0.4  Iris-setosa\n",
            "7             4.6           3.4            1.4           0.3  Iris-setosa\n",
            "8             5.0           3.4            1.5           0.2  Iris-setosa\n",
            "9             4.4           2.9            1.4           0.2  Iris-setosa \n",
            "\n",
            "Wymiary: (10, 5)\n",
            "     C1   C2   C3   C4           C5\n",
            "10  4.9  3.1  1.5  0.1  Iris-setosa\n",
            "11  5.4  3.7  1.5  0.2  Iris-setosa\n",
            "12  4.8  3.4  1.6  0.2  Iris-setosa\n",
            "13  4.8  3.0  1.4  0.1  Iris-setosa\n",
            "14  4.3  3.0  1.1  0.1  Iris-setosa\n",
            "15  5.8  4.0  1.2  0.2  Iris-setosa\n",
            "16  5.7  4.4  1.5  0.4  Iris-setosa\n",
            "17  5.4  3.9  1.3  0.4  Iris-setosa\n",
            "18  5.1  3.5  1.4  0.3  Iris-setosa\n",
            "19  5.7  3.8  1.7  0.3  Iris-setosa \n",
            "\n",
            "Wymiary: (10, 5)\n",
            "     C1   C2   C3   C4           C5\n",
            "20  5.1  3.8  1.5  0.3  Iris-setosa\n",
            "21  5.4  3.4  1.7  0.2  Iris-setosa\n",
            "22  5.1  3.7  1.5  0.4  Iris-setosa\n",
            "23  4.6  3.6  1.0  0.2  Iris-setosa\n",
            "24  5.1  3.3  1.7  0.5  Iris-setosa\n",
            "25  4.8  3.4  1.9  0.2  Iris-setosa\n",
            "26  5.0  3.0  1.6  0.2  Iris-setosa\n",
            "27  5.0  3.4  1.6  0.4  Iris-setosa\n",
            "28  5.2  3.5  1.5  0.2  Iris-setosa\n",
            "29  5.2  3.4  1.4  0.2  Iris-setosa \n",
            "\n",
            "Wymiary: (10, 5)\n",
            "     C1   C2   C3   C4           C5\n",
            "30  4.7  3.2  1.6  0.2  Iris-setosa\n",
            "31  4.8  3.1  1.6  0.2  Iris-setosa\n",
            "32  5.4  3.4  1.5  0.4  Iris-setosa\n",
            "33  5.2  4.1  1.5  0.1  Iris-setosa\n",
            "34  5.5  4.2  1.4  0.2  Iris-setosa\n",
            "35  4.9  3.1  1.5  0.1  Iris-setosa\n",
            "36  5.0  3.2  1.2  0.2  Iris-setosa\n",
            "37  5.5  3.5  1.3  0.2  Iris-setosa\n",
            "38  4.9  3.1  1.5  0.1  Iris-setosa\n",
            "39  4.4  3.0  1.3  0.2  Iris-setosa \n",
            "\n",
            "Wymiary: (10, 5)\n",
            "     C1   C2   C3   C4           C5\n",
            "40  5.1  3.4  1.5  0.2  Iris-setosa\n",
            "41  5.0  3.5  1.3  0.3  Iris-setosa\n",
            "42  4.5  2.3  1.3  0.3  Iris-setosa\n",
            "43  4.4  3.2  1.3  0.2  Iris-setosa\n",
            "44  5.0  3.5  1.6  0.6  Iris-setosa\n",
            "45  5.1  3.8  1.9  0.4  Iris-setosa\n",
            "46  4.8  3.0  1.4  0.3  Iris-setosa\n",
            "47  5.1  3.8  1.6  0.2  Iris-setosa\n",
            "48  4.6  3.2  1.4  0.2  Iris-setosa\n",
            "49  5.3  3.7  1.5  0.2  Iris-setosa \n",
            "\n",
            "Wymiary: (10, 5)\n",
            "     C1   C2   C3   C4               C5\n",
            "50  5.0  3.3  1.4  0.2      Iris-setosa\n",
            "51  7.0  3.2  4.7  1.4  Iris-versicolor\n",
            "52  6.4  3.2  4.5  1.5  Iris-versicolor\n",
            "53  6.9  3.1  4.9  1.5  Iris-versicolor\n",
            "54  5.5  2.3  4.0  1.3  Iris-versicolor\n",
            "55  6.5  2.8  4.6  1.5  Iris-versicolor\n",
            "56  5.7  2.8  4.5  1.3  Iris-versicolor\n",
            "57  6.3  3.3  4.7  1.6  Iris-versicolor\n",
            "58  4.9  2.4  3.3  1.0  Iris-versicolor\n",
            "59  6.6  2.9  4.6  1.3  Iris-versicolor \n",
            "\n",
            "Wymiary: (10, 5)\n",
            "     C1   C2   C3   C4               C5\n",
            "60  5.2  2.7  3.9  1.4  Iris-versicolor\n",
            "61  5.0  2.0  3.5  1.0  Iris-versicolor\n",
            "62  5.9  3.0  4.2  1.5  Iris-versicolor\n",
            "63  6.0  2.2  4.0  1.0  Iris-versicolor\n",
            "64  6.1  2.9  4.7  1.4  Iris-versicolor\n",
            "65  5.6  2.9  3.6  1.3  Iris-versicolor\n",
            "66  6.7  3.1  4.4  1.4  Iris-versicolor\n",
            "67  5.6  3.0  4.5  1.5  Iris-versicolor\n",
            "68  5.8  2.7  4.1  1.0  Iris-versicolor\n",
            "69  6.2  2.2  4.5  1.5  Iris-versicolor \n",
            "\n",
            "Wymiary: (10, 5)\n",
            "     C1   C2   C3   C4               C5\n",
            "70  5.6  2.5  3.9  1.1  Iris-versicolor\n",
            "71  5.9  3.2  4.8  1.8  Iris-versicolor\n",
            "72  6.1  2.8  4.0  1.3  Iris-versicolor\n",
            "73  6.3  2.5  4.9  1.5  Iris-versicolor\n",
            "74  6.1  2.8  4.7  1.2  Iris-versicolor\n",
            "75  6.4  2.9  4.3  1.3  Iris-versicolor\n",
            "76  6.6  3.0  4.4  1.4  Iris-versicolor\n",
            "77  6.8  2.8  4.8  1.4  Iris-versicolor\n",
            "78  6.7  3.0  5.0  1.7  Iris-versicolor\n",
            "79  6.0  2.9  4.5  1.5  Iris-versicolor \n",
            "\n",
            "Wymiary: (10, 5)\n",
            "     C1   C2   C3   C4               C5\n",
            "80  5.7  2.6  3.5  1.0  Iris-versicolor\n",
            "81  5.5  2.4  3.8  1.1  Iris-versicolor\n",
            "82  5.5  2.4  3.7  1.0  Iris-versicolor\n",
            "83  5.8  2.7  3.9  1.2  Iris-versicolor\n",
            "84  6.0  2.7  5.1  1.6  Iris-versicolor\n",
            "85  5.4  3.0  4.5  1.5  Iris-versicolor\n",
            "86  6.0  3.4  4.5  1.6  Iris-versicolor\n",
            "87  6.7  3.1  4.7  1.5  Iris-versicolor\n",
            "88  6.3  2.3  4.4  1.3  Iris-versicolor\n",
            "89  5.6  3.0  4.1  1.3  Iris-versicolor \n",
            "\n",
            "Wymiary: (10, 5)\n",
            "     C1   C2   C3   C4               C5\n",
            "90  5.5  2.5  4.0  1.3  Iris-versicolor\n",
            "91  5.5  2.6  4.4  1.2  Iris-versicolor\n",
            "92  6.1  3.0  4.6  1.4  Iris-versicolor\n",
            "93  5.8  2.6  4.0  1.2  Iris-versicolor\n",
            "94  5.0  2.3  3.3  1.0  Iris-versicolor\n",
            "95  5.6  2.7  4.2  1.3  Iris-versicolor\n",
            "96  5.7  3.0  4.2  1.2  Iris-versicolor\n",
            "97  5.7  2.9  4.2  1.3  Iris-versicolor\n",
            "98  6.2  2.9  4.3  1.3  Iris-versicolor\n",
            "99  5.1  2.5  3.0  1.1  Iris-versicolor \n",
            "\n",
            "Wymiary: (10, 5)\n",
            "      C1   C2   C3   C4               C5\n",
            "100  5.7  2.8  4.1  1.3  Iris-versicolor\n",
            "101  6.3  3.3  6.0  2.5   Iris-virginica\n",
            "102  5.8  2.7  5.1  1.9   Iris-virginica\n",
            "103  7.1  3.0  5.9  2.1   Iris-virginica\n",
            "104  6.3  2.9  5.6  1.8   Iris-virginica\n",
            "105  6.5  3.0  5.8  2.2   Iris-virginica\n",
            "106  7.6  3.0  6.6  2.1   Iris-virginica\n",
            "107  4.9  2.5  4.5  1.7   Iris-virginica\n",
            "108  7.3  2.9  6.3  1.8   Iris-virginica\n",
            "109  6.7  2.5  5.8  1.8   Iris-virginica \n",
            "\n",
            "Wymiary: (10, 5)\n",
            "      C1   C2   C3   C4              C5\n",
            "110  7.2  3.6  6.1  2.5  Iris-virginica\n",
            "111  6.5  3.2  5.1  2.0  Iris-virginica\n",
            "112  6.4  2.7  5.3  1.9  Iris-virginica\n",
            "113  6.8  3.0  5.5  2.1  Iris-virginica\n",
            "114  5.7  2.5  5.0  2.0  Iris-virginica\n",
            "115  5.8  2.8  5.1  2.4  Iris-virginica\n",
            "116  6.4  3.2  5.3  2.3  Iris-virginica\n",
            "117  6.5  3.0  5.5  1.8  Iris-virginica\n",
            "118  7.7  3.8  6.7  2.2  Iris-virginica\n",
            "119  7.7  2.6  6.9  2.3  Iris-virginica \n",
            "\n",
            "Wymiary: (10, 5)\n",
            "      C1   C2   C3   C4              C5\n",
            "120  6.0  2.2  5.0  1.5  Iris-virginica\n",
            "121  6.9  3.2  5.7  2.3  Iris-virginica\n",
            "122  5.6  2.8  4.9  2.0  Iris-virginica\n",
            "123  7.7  2.8  6.7  2.0  Iris-virginica\n",
            "124  6.3  2.7  4.9  1.8  Iris-virginica\n",
            "125  6.7  3.3  5.7  2.1  Iris-virginica\n",
            "126  7.2  3.2  6.0  1.8  Iris-virginica\n",
            "127  6.2  2.8  4.8  1.8  Iris-virginica\n",
            "128  6.1  3.0  4.9  1.8  Iris-virginica\n",
            "129  6.4  2.8  5.6  2.1  Iris-virginica \n",
            "\n",
            "Wymiary: (10, 5)\n",
            "      C1   C2   C3   C4              C5\n",
            "130  7.2  3.0  5.8  1.6  Iris-virginica\n",
            "131  7.4  2.8  6.1  1.9  Iris-virginica\n",
            "132  7.9  3.8  6.4  2.0  Iris-virginica\n",
            "133  6.4  2.8  5.6  2.2  Iris-virginica\n",
            "134  6.3  2.8  5.1  1.5  Iris-virginica\n",
            "135  6.1  2.6  5.6  1.4  Iris-virginica\n",
            "136  7.7  3.0  6.1  2.3  Iris-virginica\n",
            "137  6.3  3.4  5.6  2.4  Iris-virginica\n",
            "138  6.4  3.1  5.5  1.8  Iris-virginica\n",
            "139  6.0  3.0  4.8  1.8  Iris-virginica \n",
            "\n",
            "Wymiary: (10, 5)\n",
            "      C1   C2   C3   C4              C5\n",
            "140  6.9  3.1  5.4  2.1  Iris-virginica\n",
            "141  6.7  3.1  5.6  2.4  Iris-virginica\n",
            "142  6.9  3.1  5.1  2.3  Iris-virginica\n",
            "143  5.8  2.7  5.1  1.9  Iris-virginica\n",
            "144  6.8  3.2  5.9  2.3  Iris-virginica\n",
            "145  6.7  3.3  5.7  2.5  Iris-virginica\n",
            "146  6.7  3.0  5.2  2.3  Iris-virginica\n",
            "147  6.3  2.5  5.0  1.9  Iris-virginica\n",
            "148  6.5  3.0  5.2  2.0  Iris-virginica\n",
            "149  6.2  3.4  5.4  2.3  Iris-virginica \n",
            "\n",
            "Wymiary: (1, 5)\n",
            "      C1   C2   C3   C4              C5\n",
            "150  5.9  3.0  5.1  1.8  Iris-virginica \n",
            "\n"
          ],
          "name": "stdout"
        }
      ]
    },
    {
      "cell_type": "code",
      "metadata": {
        "id": "m3MUYRJR3U9Y"
      },
      "source": [
        "# w tym przykladzie mozna dynamicznie okreslac dlugosc kazdego fragmentu obiektu polegajaca na zadzadznaiu iteratora\n",
        "iris_iterator = pd.read_csv(iris_filename, header=None, names=['C1','C2','C3','C4','C5'],iterator=True)\n"
      ],
      "execution_count": 65,
      "outputs": []
    },
    {
      "cell_type": "code",
      "metadata": {
        "colab": {
          "base_uri": "https://localhost:8080/"
        },
        "id": "ya4Alj4-5GzO",
        "outputId": "8582250f-61cb-4f9d-f4e1-c2b25fe50d84"
      },
      "source": [
        "print(iris_iterator.get_chunk(10).shape)\n",
        "print(iris_iterator.get_chunk(20).shape)\n",
        "piece=iris_iterator.get_chunk(2)"
      ],
      "execution_count": 71,
      "outputs": [
        {
          "output_type": "stream",
          "text": [
            "(10, 5)\n",
            "(20, 5)\n"
          ],
          "name": "stdout"
        }
      ]
    },
    {
      "cell_type": "code",
      "metadata": {
        "colab": {
          "base_uri": "https://localhost:8080/",
          "height": 111
        },
        "id": "ms24doOl5Wxs",
        "outputId": "4d6c8f35-713f-432c-9dc8-f890a0f67cb5"
      },
      "source": [
        "piece"
      ],
      "execution_count": 72,
      "outputs": [
        {
          "output_type": "execute_result",
          "data": {
            "text/html": [
              "<div>\n",
              "<style scoped>\n",
              "    .dataframe tbody tr th:only-of-type {\n",
              "        vertical-align: middle;\n",
              "    }\n",
              "\n",
              "    .dataframe tbody tr th {\n",
              "        vertical-align: top;\n",
              "    }\n",
              "\n",
              "    .dataframe thead th {\n",
              "        text-align: right;\n",
              "    }\n",
              "</style>\n",
              "<table border=\"1\" class=\"dataframe\">\n",
              "  <thead>\n",
              "    <tr style=\"text-align: right;\">\n",
              "      <th></th>\n",
              "      <th>C1</th>\n",
              "      <th>C2</th>\n",
              "      <th>C3</th>\n",
              "      <th>C4</th>\n",
              "      <th>C5</th>\n",
              "    </tr>\n",
              "  </thead>\n",
              "  <tbody>\n",
              "    <tr>\n",
              "      <th>134</th>\n",
              "      <td>6.3</td>\n",
              "      <td>2.8</td>\n",
              "      <td>5.1</td>\n",
              "      <td>1.5</td>\n",
              "      <td>Iris-virginica</td>\n",
              "    </tr>\n",
              "    <tr>\n",
              "      <th>135</th>\n",
              "      <td>6.1</td>\n",
              "      <td>2.6</td>\n",
              "      <td>5.6</td>\n",
              "      <td>1.4</td>\n",
              "      <td>Iris-virginica</td>\n",
              "    </tr>\n",
              "  </tbody>\n",
              "</table>\n",
              "</div>"
            ],
            "text/plain": [
              "      C1   C2   C3   C4              C5\n",
              "134  6.3  2.8  5.1  1.5  Iris-virginica\n",
              "135  6.1  2.6  5.6  1.4  Iris-virginica"
            ]
          },
          "metadata": {
            "tags": []
          },
          "execution_count": 72
        }
      ]
    },
    {
      "cell_type": "code",
      "metadata": {
        "id": "RprXAn5e5p8U"
      },
      "source": [
        ""
      ],
      "execution_count": null,
      "outputs": []
    },
    {
      "cell_type": "markdown",
      "metadata": {
        "id": "m6LYGGji6qIv"
      },
      "source": [
        "Uzycie innych przykladow i bibliotek np csv itp"
      ]
    },
    {
      "cell_type": "code",
      "metadata": {
        "id": "QG_XhpSP6td0"
      },
      "source": [
        "import csv"
      ],
      "execution_count": 73,
      "outputs": []
    },
    {
      "cell_type": "code",
      "metadata": {
        "colab": {
          "base_uri": "https://localhost:8080/"
        },
        "id": "MNF52QDa6vGr",
        "outputId": "e9e83b22-a339-4089-b756-2f178ec7e900"
      },
      "source": [
        "with open(iris_filename, 'rt') as data_stream:\n",
        "  for n, row in enumerate(csv.DictReader(data_stream,fieldnames=['sepal_length','sepal_width','petal_length','petal_width','target'],dialect='excel')):\n",
        "    if n==0:\n",
        "      print(n,row)\n",
        "    else:\n",
        "      break"
      ],
      "execution_count": 74,
      "outputs": [
        {
          "output_type": "stream",
          "text": [
            "0 OrderedDict([('sepal_length', 'Id'), ('sepal_width', 'SepalLengthCm'), ('petal_length', 'SepalWidthCm'), ('petal_width', 'PetalLengthCm'), ('target', 'PetalWidthCm'), (None, ['Species'])])\n"
          ],
          "name": "stdout"
        }
      ]
    },
    {
      "cell_type": "code",
      "metadata": {
        "id": "rDmec4aI7YuN"
      },
      "source": [
        ""
      ],
      "execution_count": null,
      "outputs": []
    },
    {
      "cell_type": "markdown",
      "metadata": {
        "id": "VJ4qcKrF7cPm"
      },
      "source": [
        "Powyzszy kod otwiera połączenie z plikiem w trybie odczytu danych z binarnych i tworzy dla pliku alias data_stream. Uzycie polecenia with oznacza ze plik zostanie zamkiniety po kompletnym wykonaniu instrukcji i umieszczonych w nastepnym wcieicu. Dalej kod uruchamia iteracjie for .. in .. i w wywolaniu enumerate uruchamia funkcje csv.DictReader wczytuje dane ze strumienia data_stream. Ponieważ plik nie zawiera nagłówka, nazwy pól są podane w parametrach fieldnames. Dialect okrelsa ze jest uzywany standardowy plik csv.."
      ]
    },
    {
      "cell_type": "code",
      "metadata": {
        "id": "gMBKhRvd8dx1"
      },
      "source": [
        ""
      ],
      "execution_count": null,
      "outputs": []
    }
  ]
}