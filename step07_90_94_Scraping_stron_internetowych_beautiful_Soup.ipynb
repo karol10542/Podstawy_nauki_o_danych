{
  "nbformat": 4,
  "nbformat_minor": 0,
  "metadata": {
    "colab": {
      "name": "step07_90-94_Scraping_stron_internetowych_beautiful_Soup.ipynb",
      "provenance": [],
      "authorship_tag": "ABX9TyPY98eU3qVRTJKDpXzANdgM",
      "include_colab_link": true
    },
    "kernelspec": {
      "name": "python3",
      "display_name": "Python 3"
    },
    "language_info": {
      "name": "python"
    }
  },
  "cells": [
    {
      "cell_type": "markdown",
      "metadata": {
        "id": "view-in-github",
        "colab_type": "text"
      },
      "source": [
        "<a href=\"https://colab.research.google.com/github/karol10542/Podstawy_nauki_o_danych/blob/main/step07_90_94_Scraping_stron_internetowych_beautiful_Soup.ipynb\" target=\"_parent\"><img src=\"https://colab.research.google.com/assets/colab-badge.svg\" alt=\"Open In Colab\"/></a>"
      ]
    },
    {
      "cell_type": "code",
      "metadata": {
        "id": "gjMgiU3EpGo9"
      },
      "source": [
        "#pobieramy dane ze strony za pomoca url\n",
        "import urllib.request\n",
        "url = 'http://en.wikipedia.org/wiki/William_Shakespeare'\n",
        "request = urllib.request.Request(url)\n",
        "response = urllib.request.urlopen(request)"
      ],
      "execution_count": 9,
      "outputs": []
    },
    {
      "cell_type": "code",
      "metadata": {
        "id": "IMXAEXMLp22S"
      },
      "source": [
        "#teraz wczytujemy zasoby i parsujemy dane za pomocą parsera HTML-a\n",
        "from bs4 import BeautifulSoup\n",
        "soup = BeautifulSoup(response, 'html.parser')"
      ],
      "execution_count": 10,
      "outputs": []
    },
    {
      "cell_type": "code",
      "metadata": {
        "colab": {
          "base_uri": "https://localhost:8080/"
        },
        "id": "-_l59V4SqowR",
        "outputId": "ccf09257-3875-4831-9a00-4bb5e1a39699"
      },
      "source": [
        "soup.title"
      ],
      "execution_count": 11,
      "outputs": [
        {
          "output_type": "execute_result",
          "data": {
            "text/plain": [
              "<title>William Shakespeare - Wikipedia</title>"
            ]
          },
          "metadata": {
            "tags": []
          },
          "execution_count": 11
        }
      ]
    },
    {
      "cell_type": "code",
      "metadata": {
        "colab": {
          "base_uri": "https://localhost:8080/"
        },
        "id": "hfYcfSXkqw5Y",
        "outputId": "fc68ec0e-931d-4c71-9797-9984090637bf"
      },
      "source": [
        "#uzywamy tu metody find_all aby znalezc wszystkie znaczniki HTML a z teksem podanym w argumencie. W pierwszym przypadku interesuje nas identyfikator. W drugim szukamy wszystkich znaczników a.\n",
        "section = soup.find_all(id='mw-normal-catlinks')[0]\n",
        "for catlink in section.find_all(\"a\")[1:]:\n",
        "  print(catlink.get(\"title\"),\"->\",catlink.get(\"href\"))"
      ],
      "execution_count": 12,
      "outputs": [
        {
          "output_type": "stream",
          "text": [
            "Category:William Shakespeare -> /wiki/Category:William_Shakespeare\n",
            "Category:1564 births -> /wiki/Category:1564_births\n",
            "Category:1616 deaths -> /wiki/Category:1616_deaths\n",
            "Category:16th-century English male actors -> /wiki/Category:16th-century_English_male_actors\n",
            "Category:English male stage actors -> /wiki/Category:English_male_stage_actors\n",
            "Category:16th-century English dramatists and playwrights -> /wiki/Category:16th-century_English_dramatists_and_playwrights\n",
            "Category:17th-century English dramatists and playwrights -> /wiki/Category:17th-century_English_dramatists_and_playwrights\n",
            "Category:16th-century English poets -> /wiki/Category:16th-century_English_poets\n",
            "Category:Burials in Warwickshire -> /wiki/Category:Burials_in_Warwickshire\n",
            "Category:17th-century English poets -> /wiki/Category:17th-century_English_poets\n",
            "Category:17th-century English male writers -> /wiki/Category:17th-century_English_male_writers\n",
            "Category:English Renaissance dramatists -> /wiki/Category:English_Renaissance_dramatists\n",
            "Category:English male writers -> /wiki/Category:English_male_writers\n",
            "Category:People educated at King Edward VI School, Stratford-upon-Avon -> /wiki/Category:People_educated_at_King_Edward_VI_School,_Stratford-upon-Avon\n",
            "Category:People from Stratford-upon-Avon -> /wiki/Category:People_from_Stratford-upon-Avon\n",
            "Category:People of the Elizabethan era -> /wiki/Category:People_of_the_Elizabethan_era\n",
            "Category:Shakespeare family -> /wiki/Category:Shakespeare_family\n",
            "Category:Sonneteers -> /wiki/Category:Sonneteers\n",
            "Category:King's Men (playing company) -> /wiki/Category:King%27s_Men_(playing_company)\n",
            "Category:17th-century English male actors -> /wiki/Category:17th-century_English_male_actors\n",
            "Category:English male dramatists and playwrights -> /wiki/Category:English_male_dramatists_and_playwrights\n",
            "Category:English male poets -> /wiki/Category:English_male_poets\n"
          ],
          "name": "stdout"
        }
      ]
    },
    {
      "cell_type": "code",
      "metadata": {
        "id": "UMF2vmbXrt7x"
      },
      "source": [
        ""
      ],
      "execution_count": null,
      "outputs": []
    }
  ]
}