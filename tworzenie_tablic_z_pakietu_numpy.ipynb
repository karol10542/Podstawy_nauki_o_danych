{
  "nbformat": 4,
  "nbformat_minor": 0,
  "metadata": {
    "colab": {
      "name": "tworzenie_tablic_z_pakietu_numpy.ipynb",
      "provenance": [],
      "authorship_tag": "ABX9TyN4qBzZMgtv9hwfsIQO2FM4",
      "include_colab_link": true
    },
    "kernelspec": {
      "name": "python3",
      "display_name": "Python 3"
    },
    "language_info": {
      "name": "python"
    }
  },
  "cells": [
    {
      "cell_type": "markdown",
      "metadata": {
        "id": "view-in-github",
        "colab_type": "text"
      },
      "source": [
        "<a href=\"https://colab.research.google.com/github/karol10542/Podstawy_nauki_o_danych/blob/main/tworzenie_tablic_z_pakietu_numpy.ipynb\" target=\"_parent\"><img src=\"https://colab.research.google.com/assets/colab-badge.svg\" alt=\"Open In Colab\"/></a>"
      ]
    },
    {
      "cell_type": "code",
      "metadata": {
        "id": "KrwRscHcHcNA"
      },
      "source": [
        "import numpy as np"
      ],
      "execution_count": 1,
      "outputs": []
    },
    {
      "cell_type": "code",
      "metadata": {
        "id": "1tb2nFpSHsQS"
      },
      "source": [
        "list_of_ints = [1,2,3,4,5,6]"
      ],
      "execution_count": 2,
      "outputs": []
    },
    {
      "cell_type": "code",
      "metadata": {
        "colab": {
          "base_uri": "https://localhost:8080/"
        },
        "id": "dPX75MElIJJX",
        "outputId": "2b081a3d-108b-4122-952a-38ce3f1ef1c9"
      },
      "source": [
        "list_of_ints"
      ],
      "execution_count": 3,
      "outputs": [
        {
          "output_type": "execute_result",
          "data": {
            "text/plain": [
              "[1, 2, 3, 4, 5, 6]"
            ]
          },
          "metadata": {
            "tags": []
          },
          "execution_count": 3
        }
      ]
    },
    {
      "cell_type": "code",
      "metadata": {
        "colab": {
          "base_uri": "https://localhost:8080/"
        },
        "id": "lYWpaEdAIKgm",
        "outputId": "a40d3a60-c346-4ea6-ccfe-4cba6d841056"
      },
      "source": [
        "list_of_ints[0]"
      ],
      "execution_count": 4,
      "outputs": [
        {
          "output_type": "execute_result",
          "data": {
            "text/plain": [
              "1"
            ]
          },
          "metadata": {
            "tags": []
          },
          "execution_count": 4
        }
      ]
    },
    {
      "cell_type": "code",
      "metadata": {
        "id": "m6se0BaFIMtX"
      },
      "source": [
        "array_1 =np.array( list_of_ints)"
      ],
      "execution_count": 5,
      "outputs": []
    },
    {
      "cell_type": "code",
      "metadata": {
        "colab": {
          "base_uri": "https://localhost:8080/"
        },
        "id": "186MaRxmIYZ9",
        "outputId": "4d67d0ed-ae2c-4385-e6ab-c8638bb1c9cd"
      },
      "source": [
        "array_1"
      ],
      "execution_count": 6,
      "outputs": [
        {
          "output_type": "execute_result",
          "data": {
            "text/plain": [
              "array([1, 2, 3, 4, 5, 6])"
            ]
          },
          "metadata": {
            "tags": []
          },
          "execution_count": 6
        }
      ]
    },
    {
      "cell_type": "code",
      "metadata": {
        "colab": {
          "base_uri": "https://localhost:8080/"
        },
        "id": "GUXdv4frIZfF",
        "outputId": "6925ad91-ea0c-4225-9973-79363db31ff3"
      },
      "source": [
        "type(array_1)"
      ],
      "execution_count": 7,
      "outputs": [
        {
          "output_type": "execute_result",
          "data": {
            "text/plain": [
              "numpy.ndarray"
            ]
          },
          "metadata": {
            "tags": []
          },
          "execution_count": 7
        }
      ]
    },
    {
      "cell_type": "code",
      "metadata": {
        "colab": {
          "base_uri": "https://localhost:8080/"
        },
        "id": "k75fOyTdIdE3",
        "outputId": "c0c87ccb-6be8-4eb4-cc03-3edc095e3e45"
      },
      "source": [
        "#kontrolowanie ilosci zajmowanej pamieci\n",
        "array_1.nbytes"
      ],
      "execution_count": 8,
      "outputs": [
        {
          "output_type": "execute_result",
          "data": {
            "text/plain": [
              "48"
            ]
          },
          "metadata": {
            "tags": []
          },
          "execution_count": 8
        }
      ]
    },
    {
      "cell_type": "code",
      "metadata": {
        "id": "KrUuE2EpInR4"
      },
      "source": [
        "#aby zmniejszyć ilosc zajmowanej pamieci nalezy dostoswac typ do tablicy\n",
        "array_1 = np.array(list_of_ints,dtype=\"int8\")"
      ],
      "execution_count": 9,
      "outputs": []
    },
    {
      "cell_type": "code",
      "metadata": {
        "colab": {
          "base_uri": "https://localhost:8080/"
        },
        "id": "ila50BOKI8x2",
        "outputId": "b436ebbb-6989-49f4-d8e2-f09c764084d2"
      },
      "source": [
        "array_1.nbytes"
      ],
      "execution_count": 10,
      "outputs": [
        {
          "output_type": "execute_result",
          "data": {
            "text/plain": [
              "6"
            ]
          },
          "metadata": {
            "tags": []
          },
          "execution_count": 10
        }
      ]
    },
    {
      "cell_type": "code",
      "metadata": {
        "id": "aeXWQoGEJAss"
      },
      "source": [
        "#zmiana typu tablicy\n",
        "array_1b = array_1.astype('float32')"
      ],
      "execution_count": 11,
      "outputs": []
    },
    {
      "cell_type": "markdown",
      "metadata": {
        "id": "aKFr5FKXKV48"
      },
      "source": [
        "###listy niejednorodne"
      ]
    },
    {
      "cell_type": "code",
      "metadata": {
        "id": "EptEmwLdKX7I"
      },
      "source": [
        "complex_list = [1,2,3] + ['a','b','c'] + [1.,2.,3.]"
      ],
      "execution_count": 12,
      "outputs": []
    },
    {
      "cell_type": "code",
      "metadata": {
        "colab": {
          "base_uri": "https://localhost:8080/"
        },
        "id": "TapjK_6RKmUJ",
        "outputId": "eb5f6eac-7d19-4f0f-c66a-fa579447ec70"
      },
      "source": [
        "complex_list"
      ],
      "execution_count": 13,
      "outputs": [
        {
          "output_type": "execute_result",
          "data": {
            "text/plain": [
              "[1, 2, 3, 'a', 'b', 'c', 1.0, 2.0, 3.0]"
            ]
          },
          "metadata": {
            "tags": []
          },
          "execution_count": 13
        }
      ]
    },
    {
      "cell_type": "code",
      "metadata": {
        "id": "9k0oao8hKnUO"
      },
      "source": [
        "array_2 = np.array(complex_list[:3])"
      ],
      "execution_count": 14,
      "outputs": []
    },
    {
      "cell_type": "code",
      "metadata": {
        "colab": {
          "base_uri": "https://localhost:8080/"
        },
        "id": "AcN1dJMtK12I",
        "outputId": "8723f18f-02bc-4fb5-9dbe-4c472af66829"
      },
      "source": [
        "print('complex_list[:3]',array_2.dtype)"
      ],
      "execution_count": 15,
      "outputs": [
        {
          "output_type": "stream",
          "text": [
            "complex_list[:3] int64\n"
          ],
          "name": "stdout"
        }
      ]
    },
    {
      "cell_type": "code",
      "metadata": {
        "id": "UqO9hYdNLFkV"
      },
      "source": [
        "array_2 = np.array(complex_list[:6])"
      ],
      "execution_count": 21,
      "outputs": []
    },
    {
      "cell_type": "code",
      "metadata": {
        "colab": {
          "base_uri": "https://localhost:8080/"
        },
        "id": "kaDXaQq_LJeF",
        "outputId": "0cf307c6-50d1-4d45-e23f-cb7c47be4fc4"
      },
      "source": [
        "print('complex_list[:6]',array_2.dtype)"
      ],
      "execution_count": 22,
      "outputs": [
        {
          "output_type": "stream",
          "text": [
            "complex_list[:6] <U21\n"
          ],
          "name": "stdout"
        }
      ]
    },
    {
      "cell_type": "code",
      "metadata": {
        "id": "oLY5S2H-LdTr"
      },
      "source": [
        ""
      ],
      "execution_count": null,
      "outputs": []
    },
    {
      "cell_type": "code",
      "metadata": {
        "colab": {
          "base_uri": "https://localhost:8080/"
        },
        "id": "Sxqn-SBjLKhA",
        "outputId": "7eb5d447-cc43-4235-9078-bce6e3308784"
      },
      "source": [
        "array_2 = np.array(complex_list[:])\n",
        "print('complex_list[:]',array_2.dtype)\n"
      ],
      "execution_count": 19,
      "outputs": [
        {
          "output_type": "stream",
          "text": [
            "complex_list[:] <U21\n"
          ],
          "name": "stdout"
        }
      ]
    },
    {
      "cell_type": "code",
      "metadata": {
        "colab": {
          "base_uri": "https://localhost:8080/"
        },
        "id": "IYCmXe35LSA3",
        "outputId": "5d79f34c-b2ae-4d15-bd5d-b28b6d4470fe"
      },
      "source": [
        "#sprawdzanie czy tablica np zawiera dane odpowiedniego typu\n",
        "print(isinstance(array_2[0],np.number))"
      ],
      "execution_count": 23,
      "outputs": [
        {
          "output_type": "stream",
          "text": [
            "False\n"
          ],
          "name": "stdout"
        }
      ]
    },
    {
      "cell_type": "markdown",
      "metadata": {
        "id": "vAkGqQLDL_DV"
      },
      "source": [
        "##listy wielowymiarowe"
      ]
    },
    {
      "cell_type": "code",
      "metadata": {
        "id": "NG00LuGTMBaF"
      },
      "source": [
        "a_list_of_lists = [[1,2,3],[4,5,6],[7,8,9]]"
      ],
      "execution_count": 24,
      "outputs": []
    },
    {
      "cell_type": "code",
      "metadata": {
        "id": "nkowBJm7McC_"
      },
      "source": [
        "array_2D = np.array(a_list_of_lists)"
      ],
      "execution_count": 25,
      "outputs": []
    },
    {
      "cell_type": "code",
      "metadata": {
        "colab": {
          "base_uri": "https://localhost:8080/"
        },
        "id": "cDXatTbkMhRO",
        "outputId": "abd4f205-5086-421b-c012-58c41459a722"
      },
      "source": [
        "array_2D"
      ],
      "execution_count": 26,
      "outputs": [
        {
          "output_type": "execute_result",
          "data": {
            "text/plain": [
              "array([[1, 2, 3],\n",
              "       [4, 5, 6],\n",
              "       [7, 8, 9]])"
            ]
          },
          "metadata": {
            "tags": []
          },
          "execution_count": 26
        }
      ]
    },
    {
      "cell_type": "code",
      "metadata": {
        "colab": {
          "base_uri": "https://localhost:8080/"
        },
        "id": "owGv9Ea4MjAR",
        "outputId": "688bf47d-7cc8-4d87-c7c0-cfcb115c7b31"
      },
      "source": [
        "array_2D[1,1]"
      ],
      "execution_count": 27,
      "outputs": [
        {
          "output_type": "execute_result",
          "data": {
            "text/plain": [
              "5"
            ]
          },
          "metadata": {
            "tags": []
          },
          "execution_count": 27
        }
      ]
    },
    {
      "cell_type": "code",
      "metadata": {
        "colab": {
          "base_uri": "https://localhost:8080/"
        },
        "id": "I9MkK_iYMpJK",
        "outputId": "5e90e67e-d72c-401e-82af-79564dba66fe"
      },
      "source": [
        "array_2D[1][1]"
      ],
      "execution_count": 28,
      "outputs": [
        {
          "output_type": "execute_result",
          "data": {
            "text/plain": [
              "5"
            ]
          },
          "metadata": {
            "tags": []
          },
          "execution_count": 28
        }
      ]
    },
    {
      "cell_type": "code",
      "metadata": {
        "id": "fJniwPA0MsIO"
      },
      "source": [
        "#listy trzywymiarowe\n",
        "a_list_of_lists_of_lists = [[[1,2],[3,4],[5,6]],[[7,8],[9,10],[11,12]]]"
      ],
      "execution_count": 29,
      "outputs": []
    },
    {
      "cell_type": "code",
      "metadata": {
        "id": "gS89N_nkNGo_"
      },
      "source": [
        "array_3D = np.array(a_list_of_lists_of_lists)"
      ],
      "execution_count": 30,
      "outputs": []
    },
    {
      "cell_type": "code",
      "metadata": {
        "colab": {
          "base_uri": "https://localhost:8080/"
        },
        "id": "d0Eyx-tPNKmC",
        "outputId": "2102d084-fd00-405c-9bd5-bcb7175f8521"
      },
      "source": [
        "array_3D"
      ],
      "execution_count": 31,
      "outputs": [
        {
          "output_type": "execute_result",
          "data": {
            "text/plain": [
              "array([[[ 1,  2],\n",
              "        [ 3,  4],\n",
              "        [ 5,  6]],\n",
              "\n",
              "       [[ 7,  8],\n",
              "        [ 9, 10],\n",
              "        [11, 12]]])"
            ]
          },
          "metadata": {
            "tags": []
          },
          "execution_count": 31
        }
      ]
    },
    {
      "cell_type": "code",
      "metadata": {
        "colab": {
          "base_uri": "https://localhost:8080/"
        },
        "id": "Zq7iRWllNMmW",
        "outputId": "2f10c92e-3259-40ab-91e7-cd9b70663786"
      },
      "source": [
        "array_3D[0,2,0]"
      ],
      "execution_count": 32,
      "outputs": [
        {
          "output_type": "execute_result",
          "data": {
            "text/plain": [
              "5"
            ]
          },
          "metadata": {
            "tags": []
          },
          "execution_count": 32
        }
      ]
    },
    {
      "cell_type": "code",
      "metadata": {
        "id": "ScB59jbYNYfb"
      },
      "source": [
        "#zmiana tablicy z 1d na 2d i 3d\n",
        "testlist1 = [1,2,3,4,5,6,7,8]\n",
        "testlist = np.array(testlist1)"
      ],
      "execution_count": 49,
      "outputs": []
    },
    {
      "cell_type": "code",
      "metadata": {
        "colab": {
          "base_uri": "https://localhost:8080/"
        },
        "id": "5HcRx1ZnO1Sh",
        "outputId": "1651aa0f-65f3-4512-f2a6-b599d55c3f10"
      },
      "source": [
        "testlist"
      ],
      "execution_count": 50,
      "outputs": [
        {
          "output_type": "execute_result",
          "data": {
            "text/plain": [
              "array([1, 2, 3, 4, 5, 6, 7, 8])"
            ]
          },
          "metadata": {
            "tags": []
          },
          "execution_count": 50
        }
      ]
    },
    {
      "cell_type": "code",
      "metadata": {
        "id": "rMT-CMDLO18j"
      },
      "source": [
        "list2d = testlist.reshape(4,2).copy"
      ],
      "execution_count": 52,
      "outputs": []
    },
    {
      "cell_type": "code",
      "metadata": {
        "colab": {
          "base_uri": "https://localhost:8080/"
        },
        "id": "wnVzjoxvO-VI",
        "outputId": "d7517aa0-7196-4532-d87f-e7fa95bb8316"
      },
      "source": [
        "list2d"
      ],
      "execution_count": 53,
      "outputs": [
        {
          "output_type": "execute_result",
          "data": {
            "text/plain": [
              "<function ndarray.copy>"
            ]
          },
          "metadata": {
            "tags": []
          },
          "execution_count": 53
        }
      ]
    },
    {
      "cell_type": "code",
      "metadata": {
        "id": "ANL63e88PRON"
      },
      "source": [
        "list3d = testlist.reshape(2,2,2)"
      ],
      "execution_count": 55,
      "outputs": []
    },
    {
      "cell_type": "code",
      "metadata": {
        "colab": {
          "base_uri": "https://localhost:8080/"
        },
        "id": "ytfZWAPsPfNR",
        "outputId": "160c9891-1a3e-485f-e605-66e5b4b1746d"
      },
      "source": [
        "list3d"
      ],
      "execution_count": 56,
      "outputs": [
        {
          "output_type": "execute_result",
          "data": {
            "text/plain": [
              "array([[[1, 2],\n",
              "        [3, 4]],\n",
              "\n",
              "       [[5, 6],\n",
              "        [7, 8]]])"
            ]
          },
          "metadata": {
            "tags": []
          },
          "execution_count": 56
        }
      ]
    },
    {
      "cell_type": "code",
      "metadata": {
        "id": "An_tit85QLVy"
      },
      "source": [
        "#tworzenie tablicy i uzupelnianie jej z pakietem np\n",
        "list1 = np.arange(9).reshape(3,3)"
      ],
      "execution_count": 57,
      "outputs": []
    },
    {
      "cell_type": "code",
      "metadata": {
        "colab": {
          "base_uri": "https://localhost:8080/"
        },
        "id": "80pud_DeRei1",
        "outputId": "d9e70116-b553-4bd7-c1e7-49fa5b1b5bce"
      },
      "source": [
        "list1"
      ],
      "execution_count": 58,
      "outputs": [
        {
          "output_type": "execute_result",
          "data": {
            "text/plain": [
              "array([[0, 1, 2],\n",
              "       [3, 4, 5],\n",
              "       [6, 7, 8]])"
            ]
          },
          "metadata": {
            "tags": []
          },
          "execution_count": 58
        }
      ]
    },
    {
      "cell_type": "code",
      "metadata": {
        "id": "NnsVMfTLRfbS"
      },
      "source": [
        "\n"
      ],
      "execution_count": 82,
      "outputs": []
    },
    {
      "cell_type": "code",
      "metadata": {
        "id": "qmfeNw5QRvDu"
      },
      "source": [
        "#losowe uzupelnianie tablicy\n",
        "randomlist = np.random.randint(low=1,high=10,size=(3,3)).reshape(3,3)"
      ],
      "execution_count": 83,
      "outputs": []
    },
    {
      "cell_type": "code",
      "metadata": {
        "colab": {
          "base_uri": "https://localhost:8080/"
        },
        "id": "_t_XZ9ZaSOTM",
        "outputId": "0f15fb37-b5b3-4224-86bf-671fc232cb3a"
      },
      "source": [
        "randomlist"
      ],
      "execution_count": 84,
      "outputs": [
        {
          "output_type": "execute_result",
          "data": {
            "text/plain": [
              "array([[5, 6, 5],\n",
              "       [2, 7, 7],\n",
              "       [4, 5, 9]])"
            ]
          },
          "metadata": {
            "tags": []
          },
          "execution_count": 84
        }
      ]
    },
    {
      "cell_type": "code",
      "metadata": {
        "id": "aFL2_AE0UasO"
      },
      "source": [
        "#wypełnianie tablicy zerami,jedynkami \n",
        "oneslist = np.ones((3,3))"
      ],
      "execution_count": 86,
      "outputs": []
    },
    {
      "cell_type": "code",
      "metadata": {
        "colab": {
          "base_uri": "https://localhost:8080/"
        },
        "id": "CMebiSrvVSaw",
        "outputId": "f60c6e44-449b-437e-fcaa-36b964bf126e"
      },
      "source": [
        "oneslist"
      ],
      "execution_count": 87,
      "outputs": [
        {
          "output_type": "execute_result",
          "data": {
            "text/plain": [
              "array([[1., 1., 1.],\n",
              "       [1., 1., 1.],\n",
              "       [1., 1., 1.]])"
            ]
          },
          "metadata": {
            "tags": []
          },
          "execution_count": 87
        }
      ]
    },
    {
      "cell_type": "code",
      "metadata": {
        "id": "lIHh5gZzVXUN"
      },
      "source": [
        "zeroslist = np.zeros((3,3))"
      ],
      "execution_count": 88,
      "outputs": []
    },
    {
      "cell_type": "code",
      "metadata": {
        "colab": {
          "base_uri": "https://localhost:8080/"
        },
        "id": "1FONV-83Vb5L",
        "outputId": "36937a29-28f7-48ee-db12-d44b07a311e7"
      },
      "source": [
        "zeroslist"
      ],
      "execution_count": 89,
      "outputs": [
        {
          "output_type": "execute_result",
          "data": {
            "text/plain": [
              "array([[0., 0., 0.],\n",
              "       [0., 0., 0.],\n",
              "       [0., 0., 0.]])"
            ]
          },
          "metadata": {
            "tags": []
          },
          "execution_count": 89
        }
      ]
    },
    {
      "cell_type": "code",
      "metadata": {
        "id": "sgS4fiIlVds8"
      },
      "source": [
        "eyelist = np.eye(3)"
      ],
      "execution_count": 90,
      "outputs": []
    },
    {
      "cell_type": "code",
      "metadata": {
        "colab": {
          "base_uri": "https://localhost:8080/"
        },
        "id": "v4hPFUpQVgkY",
        "outputId": "73a3f27a-8d05-4204-efa2-61d90b7b06e8"
      },
      "source": [
        "eyelist"
      ],
      "execution_count": 91,
      "outputs": [
        {
          "output_type": "execute_result",
          "data": {
            "text/plain": [
              "array([[1., 0., 0.],\n",
              "       [0., 1., 0.],\n",
              "       [0., 0., 1.]])"
            ]
          },
          "metadata": {
            "tags": []
          },
          "execution_count": 91
        }
      ]
    },
    {
      "cell_type": "code",
      "metadata": {
        "id": "X9h7u0SuVh9M"
      },
      "source": [
        ""
      ],
      "execution_count": null,
      "outputs": []
    }
  ]
}